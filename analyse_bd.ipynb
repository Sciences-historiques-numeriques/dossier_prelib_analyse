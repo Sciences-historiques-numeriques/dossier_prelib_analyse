{
 "cells": [
  {
   "cell_type": "markdown",
   "id": "discrete-provider",
   "metadata": {},
   "source": [
    "# Prelib ( Projet de recherche en littérature de langue bretonne)\n",
    "\n",
    "\n",
    "* Nelly Blanchard, Jean-Baptiste Pressac, et Mannaig Thomas, « [Quand l’informatique soulève des questions épistémologiques dans le domaine de la littérature de langue bretonne : l’exemple de la base de données PRELIB](https://doi.org/10.4000/lbl.315) », La Bretagne Linguistique, no 21 (1 mai 2017): 297‑317.\n",
    "* Nelly Blanchard, « [La littérature de langue bretonne de l’entre-deux-guerres](https://doi.org/10.4000/lbl.360) », La Bretagne Linguistique, no 22 (1 octobre 2018): 177‑92.\n",
    "  * C'est ce texte, proposant une analyse du phénomène concerné, qui est mentionné comme \"l'article\" ci-dessous.\n",
    "\n",
    "\n",
    "* La base de données dont il est question dans l'article avec la liste des tables qu'elle contient (et qu'on peut inspecter, en interrogeant les données) est disponible ici: [Projet de recherche en littérature de langue bretonne](https://crbc-dataset.huma-num.fr/prelib)\n",
    "    \n",
    "* Modèle logique de la base de données: https://mshb.huma-num.fr/static/prelib/documents/CRBC_Schema_Prelib_18_mars_2021.pdf\n",
    "    \n",
    "    \n",
    "\n",
    "\n"
   ]
  },
  {
   "cell_type": "code",
   "execution_count": 1,
   "id": "australian-horizon",
   "metadata": {},
   "outputs": [],
   "source": [
    "import sqlite3 as sql\n",
    "import pandas as pd\n",
    "import matplotlib.pyplot as plt\n",
    "import seaborn as sns"
   ]
  },
  {
   "cell_type": "markdown",
   "id": "short-horizon",
   "metadata": {},
   "source": [
    "# Exploration de la base de données\n",
    "\n",
    "La base de données locale contient les données issues de la base de données en ligne. \n",
    "\n",
    "Pour les requêtes utilisées en vue de l'importation des données (réalisée à partir de l'export CSV avec DBeaver) voir le document 'requetes_db/requetes_SQL.sql'."
   ]
  },
  {
   "cell_type": "code",
   "execution_count": 2,
   "id": "rolled-detective",
   "metadata": {},
   "outputs": [],
   "source": [
    "database = 'requetes_bd/sql_data/prelib_sql.sqlite'"
   ]
  },
  {
   "cell_type": "code",
   "execution_count": 5,
   "id": "relative-czech",
   "metadata": {},
   "outputs": [],
   "source": [
    "c = sql.connect(database)"
   ]
  },
  {
   "cell_type": "code",
   "execution_count": 4,
   "id": "mounted-estonia",
   "metadata": {},
   "outputs": [],
   "source": [
    "# fermer la connexion\n",
    "c.close()"
   ]
  },
  {
   "cell_type": "code",
   "execution_count": 6,
   "id": "filled-commitment",
   "metadata": {},
   "outputs": [],
   "source": [
    "query = \"\"\"SELECT *\n",
    "FROM oeuvres_editions\n",
    "ORDER BY id, annee_publication \n",
    "LIMIT 200;\n",
    "\"\"\""
   ]
  },
  {
   "cell_type": "code",
   "execution_count": 21,
   "id": "ruled-thumbnail",
   "metadata": {
    "scrolled": true,
    "tags": []
   },
   "outputs": [
    {
     "name": "stdout",
     "output_type": "stream",
     "text": [
      "200\n"
     ]
    },
    {
     "data": {
      "text/plain": [
       "(3,\n",
       " 'Abrege a vuez Cathelineau quenta general eus a generalet armeou catholiq a royal ar Vendee, lequeat e brezonec gant Jacquès Abalan, scolaër e bourg Plouescat',\n",
       " 3,\n",
       " 1823,\n",
       " 5,\n",
       " 'Jacques Abalain',\n",
       " 1774,\n",
       " '',\n",
       " 'auteur',\n",
       " '',\n",
       " 'breton')"
      ]
     },
     "execution_count": 21,
     "metadata": {},
     "output_type": "execute_result"
    }
   ],
   "source": [
    "# connnexion à la base de données\n",
    "\n",
    "cs= c.cursor()\n",
    "\n",
    "### exécuter la requëte sur la base de donées SQLite pour récupérer les valeurs que contient la ligne\n",
    "cs.execute(query)\n",
    "result_q = []\n",
    "result_q = cs.fetchall()\n",
    "\n",
    "print(len(result_q))\n",
    "result_q[3]"
   ]
  },
  {
   "cell_type": "markdown",
   "id": "biblical-stock",
   "metadata": {},
   "source": [
    "# Personnes du groupe retenu par l'article\n",
    "\n",
    "Création de la revue Gwalarn en 1925\n",
    "\n",
    "---\n",
    "\n",
    "Les personnes figurant dans le traphique de la page 185 de l'article de Nelly Blanchard, « [La littérature de langue bretonne de l’entre-deux-guerres](https://doi.org/10.4000/lbl.360) », La Bretagne Linguistique, no 22 (1 octobre 2018): 177‑92.\n"
   ]
  },
  {
   "cell_type": "code",
   "execution_count": 8,
   "id": "warming-salmon",
   "metadata": {},
   "outputs": [],
   "source": [
    "query_personnes = \"SELECT * FROM personnes_article\""
   ]
  },
  {
   "cell_type": "code",
   "execution_count": 9,
   "id": "animated-simple",
   "metadata": {},
   "outputs": [],
   "source": [
    "personnes_article = pd.read_sql_query(query_personnes,c)"
   ]
  },
  {
   "cell_type": "code",
   "execution_count": 23,
   "id": "lyric-milton",
   "metadata": {},
   "outputs": [
    {
     "name": "stdout",
     "output_type": "stream",
     "text": [
      "22\n"
     ]
    },
    {
     "data": {
      "text/html": [
       "<div>\n",
       "<style scoped>\n",
       "    .dataframe tbody tr th:only-of-type {\n",
       "        vertical-align: middle;\n",
       "    }\n",
       "\n",
       "    .dataframe tbody tr th {\n",
       "        vertical-align: top;\n",
       "    }\n",
       "\n",
       "    .dataframe thead th {\n",
       "        text-align: right;\n",
       "    }\n",
       "</style>\n",
       "<table border=\"1\" class=\"dataframe\">\n",
       "  <thead>\n",
       "    <tr style=\"text-align: right;\">\n",
       "      <th></th>\n",
       "      <th>id</th>\n",
       "      <th>nom_usuel</th>\n",
       "      <th>type_art</th>\n",
       "      <th>annee_naissance</th>\n",
       "      <th>nom_etat_civil</th>\n",
       "      <th>prenom_etat_civil</th>\n",
       "      <th>particule_noblesse</th>\n",
       "      <th>sexe</th>\n",
       "      <th>jour_naissance</th>\n",
       "      <th>mois_naissance</th>\n",
       "      <th>wikidata</th>\n",
       "      <th>idref</th>\n",
       "      <th>lustre</th>\n",
       "    </tr>\n",
       "  </thead>\n",
       "  <tbody>\n",
       "    <tr>\n",
       "      <th>0</th>\n",
       "      <td>4</td>\n",
       "      <td>Christophe Jézégou</td>\n",
       "      <td>édif</td>\n",
       "      <td>1864</td>\n",
       "      <td>Jézégou</td>\n",
       "      <td>Christophe</td>\n",
       "      <td>non</td>\n",
       "      <td>M</td>\n",
       "      <td>19</td>\n",
       "      <td>5</td>\n",
       "      <td>Q3199813</td>\n",
       "      <td>178101516</td>\n",
       "      <td>1861-1866</td>\n",
       "    </tr>\n",
       "    <tr>\n",
       "      <th>1</th>\n",
       "      <td>10</td>\n",
       "      <td>Yves Berthou</td>\n",
       "      <td>régio</td>\n",
       "      <td>1861</td>\n",
       "      <td>Berthou</td>\n",
       "      <td>Yves Marie</td>\n",
       "      <td>non</td>\n",
       "      <td>M</td>\n",
       "      <td>4</td>\n",
       "      <td>9</td>\n",
       "      <td>Q787167</td>\n",
       "      <td>029665337</td>\n",
       "      <td>1861-1866</td>\n",
       "    </tr>\n",
       "    <tr>\n",
       "      <th>2</th>\n",
       "      <td>42</td>\n",
       "      <td>Adrien de Carné</td>\n",
       "      <td>régio</td>\n",
       "      <td>1854</td>\n",
       "      <td>de Carné de Carnavalet</td>\n",
       "      <td>Adrien Ernest Michel Henri Anne</td>\n",
       "      <td>oui</td>\n",
       "      <td>M</td>\n",
       "      <td>5</td>\n",
       "      <td>12</td>\n",
       "      <td>Q21473969</td>\n",
       "      <td>184324335</td>\n",
       "      <td>1851-1856</td>\n",
       "    </tr>\n",
       "  </tbody>\n",
       "</table>\n",
       "</div>"
      ],
      "text/plain": [
       "   id           nom_usuel type_art  annee_naissance          nom_etat_civil  \\\n",
       "0   4  Christophe Jézégou     édif             1864                 Jézégou   \n",
       "1  10        Yves Berthou    régio             1861                 Berthou   \n",
       "2  42     Adrien de Carné    régio             1854  de Carné de Carnavalet   \n",
       "\n",
       "                 prenom_etat_civil particule_noblesse sexe jour_naissance  \\\n",
       "0                       Christophe                non    M             19   \n",
       "1                       Yves Marie                non    M              4   \n",
       "2  Adrien Ernest Michel Henri Anne                oui    M              5   \n",
       "\n",
       "   mois_naissance   wikidata      idref     lustre  \n",
       "0               5   Q3199813  178101516  1861-1866  \n",
       "1               9    Q787167  029665337  1861-1866  \n",
       "2              12  Q21473969  184324335  1851-1856  "
      ]
     },
     "execution_count": 23,
     "metadata": {},
     "output_type": "execute_result"
    }
   ],
   "source": [
    "### Explorer le contenu de la table\n",
    "print(len(personnes_article))\n",
    "personnes_article[:3]"
   ]
  },
  {
   "cell_type": "code",
   "execution_count": 11,
   "id": "damaged-witness",
   "metadata": {
    "tags": []
   },
   "outputs": [
    {
     "name": "stdout",
     "output_type": "stream",
     "text": [
      "22\n"
     ]
    },
    {
     "data": {
      "text/plain": [
       "type_art\n",
       "gwalarn           4\n",
       "régio            13\n",
       "régio_gwalarn     1\n",
       "édif              4\n",
       "dtype: int64"
      ]
     },
     "execution_count": 11,
     "metadata": {},
     "output_type": "execute_result"
    }
   ],
   "source": [
    "#  Vue d'ensemble du nombre total et des effectifs par type\n",
    "print(len(personnes_article))\n",
    "personnes_article.groupby('type_art').size()"
   ]
  },
  {
   "cell_type": "code",
   "execution_count": 9,
   "id": "indoor-powder",
   "metadata": {},
   "outputs": [
    {
     "data": {
      "text/html": [
       "<div>\n",
       "<style scoped>\n",
       "    .dataframe tbody tr th:only-of-type {\n",
       "        vertical-align: middle;\n",
       "    }\n",
       "\n",
       "    .dataframe tbody tr th {\n",
       "        vertical-align: top;\n",
       "    }\n",
       "\n",
       "    .dataframe thead th {\n",
       "        text-align: right;\n",
       "    }\n",
       "</style>\n",
       "<table border=\"1\" class=\"dataframe\">\n",
       "  <thead>\n",
       "    <tr style=\"text-align: right;\">\n",
       "      <th></th>\n",
       "      <th>id</th>\n",
       "      <th>nom_usuel</th>\n",
       "      <th>type_art</th>\n",
       "      <th>annee_naissance</th>\n",
       "      <th>nom_etat_civil</th>\n",
       "      <th>prenom_etat_civil</th>\n",
       "    </tr>\n",
       "  </thead>\n",
       "  <tbody>\n",
       "    <tr>\n",
       "      <th>3</th>\n",
       "      <td>55</td>\n",
       "      <td>Emile Ernault</td>\n",
       "      <td>régio</td>\n",
       "      <td>1852</td>\n",
       "      <td>Ernault</td>\n",
       "      <td>Emile-Jean-Marie</td>\n",
       "    </tr>\n",
       "    <tr>\n",
       "      <th>2</th>\n",
       "      <td>42</td>\n",
       "      <td>Adrien de Carné</td>\n",
       "      <td>régio</td>\n",
       "      <td>1854</td>\n",
       "      <td>de Carné de Carnavalet</td>\n",
       "      <td>Adrien Ernest Michel Henri Anne</td>\n",
       "    </tr>\n",
       "    <tr>\n",
       "      <th>15</th>\n",
       "      <td>330</td>\n",
       "      <td>Yves Picart</td>\n",
       "      <td>régio</td>\n",
       "      <td>1859</td>\n",
       "      <td>Picart</td>\n",
       "      <td>Yves</td>\n",
       "    </tr>\n",
       "    <tr>\n",
       "      <th>10</th>\n",
       "      <td>166</td>\n",
       "      <td>Yves-Marie Madec</td>\n",
       "      <td>édif</td>\n",
       "      <td>1860</td>\n",
       "      <td>Madec</td>\n",
       "      <td>Yves-Marie</td>\n",
       "    </tr>\n",
       "    <tr>\n",
       "      <th>14</th>\n",
       "      <td>225</td>\n",
       "      <td>François Vallée</td>\n",
       "      <td>régio_gwalarn</td>\n",
       "      <td>1860</td>\n",
       "      <td>Vallée</td>\n",
       "      <td>Adolphe-François-Marie</td>\n",
       "    </tr>\n",
       "    <tr>\n",
       "      <th>8</th>\n",
       "      <td>131</td>\n",
       "      <td>Pierre Le Goff</td>\n",
       "      <td>régio</td>\n",
       "      <td>1860</td>\n",
       "      <td>Le Goff</td>\n",
       "      <td>Pierre-Marie</td>\n",
       "    </tr>\n",
       "    <tr>\n",
       "      <th>1</th>\n",
       "      <td>10</td>\n",
       "      <td>Yves Berthou</td>\n",
       "      <td>régio</td>\n",
       "      <td>1861</td>\n",
       "      <td>Berthou</td>\n",
       "      <td>Yves Marie</td>\n",
       "    </tr>\n",
       "    <tr>\n",
       "      <th>12</th>\n",
       "      <td>211</td>\n",
       "      <td>Sylvestre Sévéno</td>\n",
       "      <td>édif</td>\n",
       "      <td>1864</td>\n",
       "      <td>Sévéno</td>\n",
       "      <td>Sylvestre</td>\n",
       "    </tr>\n",
       "    <tr>\n",
       "      <th>0</th>\n",
       "      <td>4</td>\n",
       "      <td>Christophe Jézégou</td>\n",
       "      <td>édif</td>\n",
       "      <td>1864</td>\n",
       "      <td>Jézégou</td>\n",
       "      <td>Christophe</td>\n",
       "    </tr>\n",
       "    <tr>\n",
       "      <th>13</th>\n",
       "      <td>224</td>\n",
       "      <td>Jean-Marie Uguen</td>\n",
       "      <td>édif</td>\n",
       "      <td>1868</td>\n",
       "      <td>Uguen</td>\n",
       "      <td>Jean-Marie</td>\n",
       "    </tr>\n",
       "    <tr>\n",
       "      <th>17</th>\n",
       "      <td>353</td>\n",
       "      <td>Jean-Marie-Yves Héno</td>\n",
       "      <td>régio</td>\n",
       "      <td>1868</td>\n",
       "      <td>Héno</td>\n",
       "      <td>Jean-Marie-Yves</td>\n",
       "    </tr>\n",
       "    <tr>\n",
       "      <th>9</th>\n",
       "      <td>150</td>\n",
       "      <td>Yves Le Moal</td>\n",
       "      <td>régio</td>\n",
       "      <td>1874</td>\n",
       "      <td>Le Moal</td>\n",
       "      <td>Yves-Charles-Marie</td>\n",
       "    </tr>\n",
       "    <tr>\n",
       "      <th>7</th>\n",
       "      <td>105</td>\n",
       "      <td>Joseph Le Bayon</td>\n",
       "      <td>régio</td>\n",
       "      <td>1876</td>\n",
       "      <td>Le Bayon</td>\n",
       "      <td>Joseph-Marie</td>\n",
       "    </tr>\n",
       "    <tr>\n",
       "      <th>11</th>\n",
       "      <td>192</td>\n",
       "      <td>Jean-Marie Perrot</td>\n",
       "      <td>régio</td>\n",
       "      <td>1877</td>\n",
       "      <td>Perrot</td>\n",
       "      <td>Jean-Marie</td>\n",
       "    </tr>\n",
       "    <tr>\n",
       "      <th>16</th>\n",
       "      <td>338</td>\n",
       "      <td>Meven Mordiern</td>\n",
       "      <td>gwalarn</td>\n",
       "      <td>1878</td>\n",
       "      <td>Le Roux</td>\n",
       "      <td>René</td>\n",
       "    </tr>\n",
       "    <tr>\n",
       "      <th>6</th>\n",
       "      <td>84</td>\n",
       "      <td>François Jaffrennou</td>\n",
       "      <td>régio</td>\n",
       "      <td>1879</td>\n",
       "      <td>Jaffrennou</td>\n",
       "      <td>François Joseph Claude</td>\n",
       "    </tr>\n",
       "    <tr>\n",
       "      <th>5</th>\n",
       "      <td>77</td>\n",
       "      <td>Loeiz Herrieu</td>\n",
       "      <td>régio</td>\n",
       "      <td>1879</td>\n",
       "      <td>Henrio</td>\n",
       "      <td>Louis-Marie-Mathurin</td>\n",
       "    </tr>\n",
       "    <tr>\n",
       "      <th>21</th>\n",
       "      <td>405</td>\n",
       "      <td>Julien Clisson</td>\n",
       "      <td>régio</td>\n",
       "      <td>1883</td>\n",
       "      <td>Clisson</td>\n",
       "      <td>Julien Hyacinthe Joseph Marie</td>\n",
       "    </tr>\n",
       "    <tr>\n",
       "      <th>4</th>\n",
       "      <td>63</td>\n",
       "      <td>Francis Gourvil</td>\n",
       "      <td>régio</td>\n",
       "      <td>1889</td>\n",
       "      <td></td>\n",
       "      <td></td>\n",
       "    </tr>\n",
       "    <tr>\n",
       "      <th>20</th>\n",
       "      <td>361</td>\n",
       "      <td>Youenn Drezen</td>\n",
       "      <td>gwalarn</td>\n",
       "      <td>1899</td>\n",
       "      <td>Le Drézen</td>\n",
       "      <td>Guillaume Yves</td>\n",
       "    </tr>\n",
       "    <tr>\n",
       "      <th>19</th>\n",
       "      <td>359</td>\n",
       "      <td>Jakez Riou</td>\n",
       "      <td>gwalarn</td>\n",
       "      <td>1899</td>\n",
       "      <td>Riou</td>\n",
       "      <td>Jacques Yves Marie</td>\n",
       "    </tr>\n",
       "    <tr>\n",
       "      <th>18</th>\n",
       "      <td>354</td>\n",
       "      <td>Roparz Hemon</td>\n",
       "      <td>gwalarn</td>\n",
       "      <td>1900</td>\n",
       "      <td>Nemo</td>\n",
       "      <td>Louis Paul</td>\n",
       "    </tr>\n",
       "  </tbody>\n",
       "</table>\n",
       "</div>"
      ],
      "text/plain": [
       "     id             nom_usuel       type_art  annee_naissance  \\\n",
       "3    55         Emile Ernault          régio             1852   \n",
       "2    42       Adrien de Carné          régio             1854   \n",
       "15  330           Yves Picart          régio             1859   \n",
       "10  166      Yves-Marie Madec           édif             1860   \n",
       "14  225       François Vallée  régio_gwalarn             1860   \n",
       "8   131        Pierre Le Goff          régio             1860   \n",
       "1    10          Yves Berthou          régio             1861   \n",
       "12  211      Sylvestre Sévéno           édif             1864   \n",
       "0     4    Christophe Jézégou           édif             1864   \n",
       "13  224      Jean-Marie Uguen           édif             1868   \n",
       "17  353  Jean-Marie-Yves Héno          régio             1868   \n",
       "9   150          Yves Le Moal          régio             1874   \n",
       "7   105       Joseph Le Bayon          régio             1876   \n",
       "11  192     Jean-Marie Perrot          régio             1877   \n",
       "16  338        Meven Mordiern        gwalarn             1878   \n",
       "6    84   François Jaffrennou          régio             1879   \n",
       "5    77         Loeiz Herrieu          régio             1879   \n",
       "21  405        Julien Clisson          régio             1883   \n",
       "4    63       Francis Gourvil          régio             1889   \n",
       "20  361         Youenn Drezen        gwalarn             1899   \n",
       "19  359            Jakez Riou        gwalarn             1899   \n",
       "18  354          Roparz Hemon        gwalarn             1900   \n",
       "\n",
       "            nom_etat_civil                prenom_etat_civil  \n",
       "3                  Ernault                 Emile-Jean-Marie  \n",
       "2   de Carné de Carnavalet  Adrien Ernest Michel Henri Anne  \n",
       "15                  Picart                             Yves  \n",
       "10                   Madec                       Yves-Marie  \n",
       "14                  Vallée           Adolphe-François-Marie  \n",
       "8                  Le Goff                     Pierre-Marie  \n",
       "1                  Berthou                       Yves Marie  \n",
       "12                  Sévéno                        Sylvestre  \n",
       "0                  Jézégou                       Christophe  \n",
       "13                   Uguen                       Jean-Marie  \n",
       "17                    Héno                  Jean-Marie-Yves  \n",
       "9                  Le Moal               Yves-Charles-Marie  \n",
       "7                 Le Bayon                     Joseph-Marie  \n",
       "11                  Perrot                       Jean-Marie  \n",
       "16                 Le Roux                             René  \n",
       "6               Jaffrennou           François Joseph Claude  \n",
       "5                   Henrio             Louis-Marie-Mathurin  \n",
       "21                 Clisson    Julien Hyacinthe Joseph Marie  \n",
       "4                                                            \n",
       "20               Le Drézen                   Guillaume Yves  \n",
       "19                    Riou               Jacques Yves Marie  \n",
       "18                    Nemo                       Louis Paul  "
      ]
     },
     "execution_count": 9,
     "metadata": {},
     "output_type": "execute_result"
    }
   ],
   "source": [
    "personnes_article[['id','nom_usuel','type_art','annee_naissance','nom_etat_civil','prenom_etat_civil']].sort_values('annee_naissance')"
   ]
  },
  {
   "cell_type": "code",
   "execution_count": 24,
   "id": "surprising-elevation",
   "metadata": {
    "tags": []
   },
   "outputs": [
    {
     "data": {
      "image/png": "[encoded data removed]",
      "text/plain": [
       "<Figure size 1152x360 with 1 Axes>"
      ]
     },
     "metadata": {
      "needs_background": "light"
     },
     "output_type": "display_data"
    }
   ],
   "source": [
    "###  Regroupement par année de naissance \n",
    "#   Représentation biaisée (manquent des années)\n",
    "\n",
    "annee_naissance = personnes_article.groupby('annee_naissance').size()\n",
    "annee_naissance[:10]\n",
    "annee_naissance.plot(kind='bar',width=0.1,  figsize=(16,5))\n",
    "plt.show()"
   ]
  },
  {
   "cell_type": "code",
   "execution_count": 14,
   "id": "cognitive-position",
   "metadata": {},
   "outputs": [
    {
     "data": {
      "text/plain": [
       "[[1859, 1], [1860, 3], [1861, 1]]"
      ]
     },
     "execution_count": 14,
     "metadata": {},
     "output_type": "execute_result"
    }
   ],
   "source": [
    "###  Une autre méthode de regroupement\n",
    "count_annees = [[l,v] for l,v in personnes_article['annee_naissance'].value_counts().iteritems()]\n",
    "count_annees.sort(key=lambda x: int(x[0]))\n",
    "count_annees[2:5]"
   ]
  },
  {
   "cell_type": "markdown",
   "id": "parallel-bride",
   "metadata": {},
   "source": [
    "## Distribution des naissances de la population des personnes retenues dans l'article"
   ]
  },
  {
   "cell_type": "code",
   "execution_count": 25,
   "id": "german-holocaust",
   "metadata": {},
   "outputs": [
    {
     "data": {
      "text/html": [
       "<div>\n",
       "<style scoped>\n",
       "    .dataframe tbody tr th:only-of-type {\n",
       "        vertical-align: middle;\n",
       "    }\n",
       "\n",
       "    .dataframe tbody tr th {\n",
       "        vertical-align: top;\n",
       "    }\n",
       "\n",
       "    .dataframe thead th {\n",
       "        text-align: right;\n",
       "    }\n",
       "</style>\n",
       "<table border=\"1\" class=\"dataframe\">\n",
       "  <thead>\n",
       "    <tr style=\"text-align: right;\">\n",
       "      <th></th>\n",
       "      <th>annee</th>\n",
       "      <th>effectif</th>\n",
       "    </tr>\n",
       "  </thead>\n",
       "  <tbody>\n",
       "    <tr>\n",
       "      <th>7</th>\n",
       "      <td>1858</td>\n",
       "      <td>0</td>\n",
       "    </tr>\n",
       "    <tr>\n",
       "      <th>8</th>\n",
       "      <td>1859</td>\n",
       "      <td>1</td>\n",
       "    </tr>\n",
       "    <tr>\n",
       "      <th>9</th>\n",
       "      <td>1860</td>\n",
       "      <td>3</td>\n",
       "    </tr>\n",
       "    <tr>\n",
       "      <th>10</th>\n",
       "      <td>1861</td>\n",
       "      <td>1</td>\n",
       "    </tr>\n",
       "    <tr>\n",
       "      <th>11</th>\n",
       "      <td>1862</td>\n",
       "      <td>0</td>\n",
       "    </tr>\n",
       "  </tbody>\n",
       "</table>\n",
       "</div>"
      ],
      "text/plain": [
       "    annee  effectif\n",
       "7    1858         0\n",
       "8    1859         1\n",
       "9    1860         3\n",
       "10   1861         1\n",
       "11   1862         0"
      ]
     },
     "execution_count": 25,
     "metadata": {},
     "output_type": "execute_result"
    }
   ],
   "source": [
    "annee_liste = [x for x in range(1851, 1901)]\n",
    "annee_effectifs = []\n",
    "\n",
    "for a in annee_liste:\n",
    "    if a in annee_naissance.index:\n",
    "        for e in zip(annee_naissance.index,annee_naissance.tolist()):\n",
    "            if a == e[0]:\n",
    "                annee_effectifs.append([a, e[1]])\n",
    "    else :    \n",
    "        annee_effectifs.append([a, 0])\n",
    "# annee_effectifs[:10]\n",
    "liste_annees = pd.DataFrame(annee_effectifs, columns=['annee', 'effectif'])\n",
    "liste_annees[7:12]"
   ]
  },
  {
   "cell_type": "code",
   "execution_count": 27,
   "id": "western-directive",
   "metadata": {},
   "outputs": [
    {
     "data": {
      "image/png": "[encoded data removed]",
      "text/plain": [
       "<Figure size 1152x360 with 1 Axes>"
      ]
     },
     "metadata": {
      "needs_background": "light"
     },
     "output_type": "display_data"
    }
   ],
   "source": [
    "pd.DataFrame(liste_annees).plot(x = 'annee', y = 'effectif',kind='bar',width=0.2,  figsize=(16,5))\n",
    "plt.xticks(rotation=45)\n",
    "plt.show()"
   ]
  },
  {
   "cell_type": "code",
   "execution_count": 17,
   "id": "equipped-islam",
   "metadata": {},
   "outputs": [
    {
     "data": {
      "text/plain": [
       "[1851, 1856, 1861, 1866, 1871, 1876, 1881, 1886, 1891, 1896, 1901]"
      ]
     },
     "execution_count": 17,
     "metadata": {},
     "output_type": "execute_result"
    }
   ],
   "source": [
    "lustres = [x for x in range(1851,1905, 5)]\n",
    "lustres"
   ]
  },
  {
   "cell_type": "code",
   "execution_count": 18,
   "id": "offshore-iraqi",
   "metadata": {},
   "outputs": [],
   "source": [
    "### Créer une copie indépendante du DataFrame (attention aux copies de variables qui sont seulement des alias) \n",
    "# et coder les années de naissance en relation avec les lustres\n",
    "## fonction pd.cut : https://pandas.pydata.org/pandas-docs/stable/reference/api/pandas.cut.html\n",
    "\n",
    "\n",
    "personnes_article['lustre'] = pd.cut(personnes_article['annee_naissance'], lustres, right=False)\n",
    "### Transformer le code ajouté pour qu'il soit plus lisible\n",
    "personnes_article['lustre'] = personnes_article['lustre'].apply(lambda row : str(int(row.left))+'-'+str(int(row.right)))\n",
    "\n",
    "## Inspection\n",
    "# personnes_article"
   ]
  },
  {
   "cell_type": "code",
   "execution_count": 20,
   "id": "cross-handy",
   "metadata": {},
   "outputs": [
    {
     "data": {
      "image/png": "[encoded data removed]",
      "text/plain": [
       "<Figure size 1152x360 with 1 Axes>"
      ]
     },
     "metadata": {
      "needs_background": "light"
     },
     "output_type": "display_data"
    }
   ],
   "source": [
    "###  Distribution par lustre de naissance et profil des auteurs\n",
    "\n",
    "X = 'type_art'\n",
    "Y = 'lustre'\n",
    "    \n",
    "g = personnes_article[[Y,X]].pivot_table(index=Y,columns=X,aggfunc=len) \\\n",
    "        .fillna(0).astype(int).sort_values(by=Y, ascending=True) \\\n",
    "        .plot( kind='bar', stacked=True,  width=0.2,  figsize=(16,5),  title = \"Naissances par lustre et profils des auteurs\")\n",
    "plt.xticks(rotation=45)\n",
    "plt.show()"
   ]
  },
  {
   "cell_type": "markdown",
   "id": "precise-webmaster",
   "metadata": {},
   "source": [
    "### Remarques\n",
    "\n",
    "Noter : \n",
    "* la position de [François Vallée](https://fr.wikipedia.org/wiki/Fran%C3%A7ois_Vall%C3%A9e_(linguiste)), le linguiste cf. p. 191 et le graphe p. 189 – il s'agit de l'auteur né en 1860 qui fait le pont entre régionalistes et nationalistes\n",
    "* le rôle d'intermédiaire de [Meven Mordiern](https://fr.wikipedia.org/wiki/Meven_Mordiern), né en 1878, cf. graphe p. 189. \"Meven Modiern, René Le Roux à l'état-civil, est un écrivain de langue bretonne, un érudit spécialiste de civilisation celtique et le principal collaborateur du linguiste François Vallée\" (Wikipedia)\n"
   ]
  },
  {
   "cell_type": "code",
   "execution_count": null,
   "id": "democratic-thunder",
   "metadata": {},
   "outputs": [],
   "source": []
  },
  {
   "cell_type": "markdown",
   "id": "norwegian-patch",
   "metadata": {},
   "source": [
    "## Publications en breton"
   ]
  },
  {
   "cell_type": "code",
   "execution_count": 30,
   "id": "dominant-relationship",
   "metadata": {},
   "outputs": [],
   "source": [
    "query = \"\"\"\n",
    "SELECT *                           \n",
    "FROM oeuvres_editions   --3259         \n",
    "WHERE annee_publication > 1850 --; --2828  \n",
    "AND langues LIKE '%breton%';  --2691       \n",
    "\"\"\""
   ]
  },
  {
   "cell_type": "code",
   "execution_count": 31,
   "id": "noted-feature",
   "metadata": {},
   "outputs": [],
   "source": [
    "publications = pd.read_sql_query(query,c)"
   ]
  },
  {
   "cell_type": "code",
   "execution_count": 35,
   "id": "labeled-ceiling",
   "metadata": {},
   "outputs": [
    {
     "name": "stdout",
     "output_type": "stream",
     "text": [
      "2691\n"
     ]
    },
    {
     "data": {
      "text/html": [
       "<div>\n",
       "<style scoped>\n",
       "    .dataframe tbody tr th:only-of-type {\n",
       "        vertical-align: middle;\n",
       "    }\n",
       "\n",
       "    .dataframe tbody tr th {\n",
       "        vertical-align: top;\n",
       "    }\n",
       "\n",
       "    .dataframe thead th {\n",
       "        text-align: right;\n",
       "    }\n",
       "</style>\n",
       "<table border=\"1\" class=\"dataframe\">\n",
       "  <thead>\n",
       "    <tr style=\"text-align: right;\">\n",
       "      <th></th>\n",
       "      <th>id</th>\n",
       "      <th>titre</th>\n",
       "      <th>id_ed</th>\n",
       "      <th>annee_publication</th>\n",
       "      <th>id_personne</th>\n",
       "      <th>nom_usuel</th>\n",
       "      <th>annee_naissance</th>\n",
       "      <th>annee_deces</th>\n",
       "      <th>fonctions</th>\n",
       "      <th>types</th>\n",
       "      <th>langues</th>\n",
       "    </tr>\n",
       "  </thead>\n",
       "  <tbody>\n",
       "    <tr>\n",
       "      <th>0</th>\n",
       "      <td>1</td>\n",
       "      <td>Em Breiz-Izel</td>\n",
       "      <td>1</td>\n",
       "      <td>1885</td>\n",
       "      <td>23</td>\n",
       "      <td>Jean Cadiou</td>\n",
       "      <td>1834</td>\n",
       "      <td></td>\n",
       "      <td>auteur</td>\n",
       "      <td></td>\n",
       "      <td>breton</td>\n",
       "    </tr>\n",
       "    <tr>\n",
       "      <th>1</th>\n",
       "      <td>2</td>\n",
       "      <td>En Est-La Moisson</td>\n",
       "      <td>2</td>\n",
       "      <td>1897</td>\n",
       "      <td>22</td>\n",
       "      <td>Jean-Mathurin Cadic</td>\n",
       "      <td>1843</td>\n",
       "      <td>1917</td>\n",
       "      <td>auteur,auteur</td>\n",
       "      <td>Poésie,Poésie</td>\n",
       "      <td>français,breton</td>\n",
       "    </tr>\n",
       "    <tr>\n",
       "      <th>2</th>\n",
       "      <td>2</td>\n",
       "      <td>En Est-La Moisson</td>\n",
       "      <td>625</td>\n",
       "      <td>1927</td>\n",
       "      <td>22</td>\n",
       "      <td>Jean-Mathurin Cadic</td>\n",
       "      <td>1843</td>\n",
       "      <td>1917</td>\n",
       "      <td>auteur</td>\n",
       "      <td>Poésie</td>\n",
       "      <td>breton</td>\n",
       "    </tr>\n",
       "  </tbody>\n",
       "</table>\n",
       "</div>"
      ],
      "text/plain": [
       "   id              titre  id_ed  annee_publication id_personne  \\\n",
       "0   1      Em Breiz-Izel      1               1885          23   \n",
       "1   2  En Est-La Moisson      2               1897          22   \n",
       "2   2  En Est-La Moisson    625               1927          22   \n",
       "\n",
       "             nom_usuel annee_naissance annee_deces      fonctions  \\\n",
       "0          Jean Cadiou            1834                     auteur   \n",
       "1  Jean-Mathurin Cadic            1843        1917  auteur,auteur   \n",
       "2  Jean-Mathurin Cadic            1843        1917         auteur   \n",
       "\n",
       "           types          langues  \n",
       "0                          breton  \n",
       "1  Poésie,Poésie  français,breton  \n",
       "2         Poésie           breton  "
      ]
     },
     "execution_count": 35,
     "metadata": {},
     "output_type": "execute_result"
    }
   ],
   "source": [
    "print(len(publications))\n",
    "publications[:3]"
   ]
  },
  {
   "cell_type": "markdown",
   "id": "supported-contribution",
   "metadata": {},
   "source": [
    "## Auteurs et traducteurs"
   ]
  },
  {
   "cell_type": "code",
   "execution_count": 40,
   "id": "positive-monkey",
   "metadata": {},
   "outputs": [
    {
     "data": {
      "text/plain": [
       "fonctions\n",
       "auteur                                         1616\n",
       "co-auteur                                       360\n",
       "traducteur                                      191\n",
       "auteur,auteur                                   104\n",
       "illustrateur                                     90\n",
       "préfacier                                        79\n",
       "                                                 45\n",
       "conteur                                          29\n",
       "[fonction à préciser]                            24\n",
       "éditeur scientifique                             23\n",
       "introducteur                                     21\n",
       "adaptateur                                       18\n",
       "traducteur,traducteur                            13\n",
       "compositeur                                      12\n",
       "préfacier,préfacier                              11\n",
       "auteur de l'exergue                               8\n",
       "correcteur sur épreuves                           5\n",
       "traducteur,chanteur                               4\n",
       "traducteur,préfacier,chanteur                     4\n",
       "chanteur                                          4\n",
       "[fonction à préciser],[fonction à préciser]       3\n",
       "illustrateur,illustrateur                         2\n",
       "préfacier,introducteur                            2\n",
       "auteur,auteur,auteur                              2\n",
       "co-auteur,préfacier                               2\n",
       "co-auteur,auteur de l'exergue                     2\n",
       "auteur,introducteur                               1\n",
       "acteur                                            1\n",
       "auteur,auteur,auteur,auteur                       1\n",
       "auteur,illustrateur                               1\n",
       "éditeur scientifique,éditeur scientifique         1\n",
       "auteur,préfacier                                  1\n",
       "co-auteur,co-auteur                               1\n",
       "co-auteur,introducteur                            1\n",
       "co-auteur,éditeur scientifique                    1\n",
       "co-auteur,éditeur scientifique,introducteur       1\n",
       "éditeur scientifique,introducteur                 1\n",
       "collaborateur,collaborateur                       1\n",
       "collecteur                                        1\n",
       "collecteur,collecteur                             1\n",
       "introducteur,compositeur                          1\n",
       "traducteur,traducteur,préfacier,préfacier         1\n",
       "collaborateur                                     1\n",
       "dtype: int64"
      ]
     },
     "execution_count": 40,
     "metadata": {},
     "output_type": "execute_result"
    }
   ],
   "source": [
    "(publications.groupby('fonctions').size()).sort_values(ascending=False)"
   ]
  },
  {
   "cell_type": "code",
   "execution_count": 153,
   "id": "upset-resident",
   "metadata": {},
   "outputs": [
    {
     "name": "stdout",
     "output_type": "stream",
     "text": [
      "2315\n"
     ]
    }
   ],
   "source": [
    "### Restreindre aux auteurs et traducteurs\n",
    "print(len(publications[publications['fonctions'].str.contains(\"auteur|traducteur\")]))\n",
    "# (publications[publications['fonctions'].str.contains(\"auteur|traducteur\")].groupby('fonctions').size()).sort_values(ascending=False)"
   ]
  },
  {
   "cell_type": "markdown",
   "id": "foster-revolution",
   "metadata": {},
   "source": [
    "## Fusionner table éditions et auteurs retenus dans l'article"
   ]
  },
  {
   "cell_type": "code",
   "execution_count": 49,
   "id": "balanced-pepper",
   "metadata": {},
   "outputs": [
    {
     "data": {
      "text/html": [
       "<div>\n",
       "<style scoped>\n",
       "    .dataframe tbody tr th:only-of-type {\n",
       "        vertical-align: middle;\n",
       "    }\n",
       "\n",
       "    .dataframe tbody tr th {\n",
       "        vertical-align: top;\n",
       "    }\n",
       "\n",
       "    .dataframe thead th {\n",
       "        text-align: right;\n",
       "    }\n",
       "</style>\n",
       "<table border=\"1\" class=\"dataframe\">\n",
       "  <thead>\n",
       "    <tr style=\"text-align: right;\">\n",
       "      <th></th>\n",
       "      <th>id</th>\n",
       "      <th>nom_usuel</th>\n",
       "      <th>type_art</th>\n",
       "      <th>annee_naissance</th>\n",
       "      <th>nom_etat_civil</th>\n",
       "      <th>prenom_etat_civil</th>\n",
       "      <th>particule_noblesse</th>\n",
       "      <th>sexe</th>\n",
       "      <th>jour_naissance</th>\n",
       "      <th>mois_naissance</th>\n",
       "      <th>wikidata</th>\n",
       "      <th>idref</th>\n",
       "      <th>lustre</th>\n",
       "    </tr>\n",
       "  </thead>\n",
       "  <tbody>\n",
       "    <tr>\n",
       "      <th>0</th>\n",
       "      <td>4</td>\n",
       "      <td>Christophe Jézégou</td>\n",
       "      <td>édif</td>\n",
       "      <td>1864</td>\n",
       "      <td>Jézégou</td>\n",
       "      <td>Christophe</td>\n",
       "      <td>non</td>\n",
       "      <td>M</td>\n",
       "      <td>19</td>\n",
       "      <td>5</td>\n",
       "      <td>Q3199813</td>\n",
       "      <td>178101516</td>\n",
       "      <td>1861-1866</td>\n",
       "    </tr>\n",
       "    <tr>\n",
       "      <th>1</th>\n",
       "      <td>10</td>\n",
       "      <td>Yves Berthou</td>\n",
       "      <td>régio</td>\n",
       "      <td>1861</td>\n",
       "      <td>Berthou</td>\n",
       "      <td>Yves Marie</td>\n",
       "      <td>non</td>\n",
       "      <td>M</td>\n",
       "      <td>4</td>\n",
       "      <td>9</td>\n",
       "      <td>Q787167</td>\n",
       "      <td>029665337</td>\n",
       "      <td>1861-1866</td>\n",
       "    </tr>\n",
       "    <tr>\n",
       "      <th>2</th>\n",
       "      <td>42</td>\n",
       "      <td>Adrien de Carné</td>\n",
       "      <td>régio</td>\n",
       "      <td>1854</td>\n",
       "      <td>de Carné de Carnavalet</td>\n",
       "      <td>Adrien Ernest Michel Henri Anne</td>\n",
       "      <td>oui</td>\n",
       "      <td>M</td>\n",
       "      <td>5</td>\n",
       "      <td>12</td>\n",
       "      <td>Q21473969</td>\n",
       "      <td>184324335</td>\n",
       "      <td>1851-1856</td>\n",
       "    </tr>\n",
       "  </tbody>\n",
       "</table>\n",
       "</div>"
      ],
      "text/plain": [
       "   id           nom_usuel type_art  annee_naissance          nom_etat_civil  \\\n",
       "0   4  Christophe Jézégou     édif             1864                 Jézégou   \n",
       "1  10        Yves Berthou    régio             1861                 Berthou   \n",
       "2  42     Adrien de Carné    régio             1854  de Carné de Carnavalet   \n",
       "\n",
       "                 prenom_etat_civil particule_noblesse sexe jour_naissance  \\\n",
       "0                       Christophe                non    M             19   \n",
       "1                       Yves Marie                non    M              4   \n",
       "2  Adrien Ernest Michel Henri Anne                oui    M              5   \n",
       "\n",
       "   mois_naissance   wikidata      idref     lustre  \n",
       "0               5   Q3199813  178101516  1861-1866  \n",
       "1               9    Q787167  029665337  1861-1866  \n",
       "2              12  Q21473969  184324335  1851-1856  "
      ]
     },
     "execution_count": 49,
     "metadata": {},
     "output_type": "execute_result"
    }
   ],
   "source": [
    "personnes_article[:3]"
   ]
  },
  {
   "cell_type": "code",
   "execution_count": 75,
   "id": "spatial-benjamin",
   "metadata": {},
   "outputs": [
    {
     "name": "stdout",
     "output_type": "stream",
     "text": [
      "Effectif des publications retenues :  2315 \n",
      "\n"
     ]
    },
    {
     "data": {
      "text/html": [
       "<div>\n",
       "<style scoped>\n",
       "    .dataframe tbody tr th:only-of-type {\n",
       "        vertical-align: middle;\n",
       "    }\n",
       "\n",
       "    .dataframe tbody tr th {\n",
       "        vertical-align: top;\n",
       "    }\n",
       "\n",
       "    .dataframe thead th {\n",
       "        text-align: right;\n",
       "    }\n",
       "</style>\n",
       "<table border=\"1\" class=\"dataframe\">\n",
       "  <thead>\n",
       "    <tr style=\"text-align: right;\">\n",
       "      <th></th>\n",
       "      <th>id_x</th>\n",
       "      <th>titre</th>\n",
       "      <th>id_ed</th>\n",
       "      <th>annee_publication</th>\n",
       "      <th>id_personne</th>\n",
       "      <th>nom_usuel_x</th>\n",
       "      <th>annee_naissance_x</th>\n",
       "      <th>annee_deces</th>\n",
       "      <th>fonctions</th>\n",
       "      <th>types</th>\n",
       "      <th>...</th>\n",
       "      <th>nom_etat_civil</th>\n",
       "      <th>prenom_etat_civil</th>\n",
       "      <th>particule_noblesse</th>\n",
       "      <th>sexe</th>\n",
       "      <th>jour_naissance</th>\n",
       "      <th>mois_naissance</th>\n",
       "      <th>wikidata</th>\n",
       "      <th>idref</th>\n",
       "      <th>lustre</th>\n",
       "      <th>_merge</th>\n",
       "    </tr>\n",
       "  </thead>\n",
       "  <tbody>\n",
       "    <tr>\n",
       "      <th>170</th>\n",
       "      <td>202</td>\n",
       "      <td>Gwin person Koataskorn</td>\n",
       "      <td>188</td>\n",
       "      <td>1904</td>\n",
       "      <td>67</td>\n",
       "      <td>Charles Guennou</td>\n",
       "      <td>1851</td>\n",
       "      <td>1915</td>\n",
       "      <td>traducteur</td>\n",
       "      <td>Recueil de poèmes</td>\n",
       "      <td>...</td>\n",
       "      <td>NaN</td>\n",
       "      <td>NaN</td>\n",
       "      <td>NaN</td>\n",
       "      <td>NaN</td>\n",
       "      <td>NaN</td>\n",
       "      <td>NaN</td>\n",
       "      <td>NaN</td>\n",
       "      <td>NaN</td>\n",
       "      <td>NaN</td>\n",
       "      <td>left_only</td>\n",
       "    </tr>\n",
       "    <tr>\n",
       "      <th>171</th>\n",
       "      <td>203</td>\n",
       "      <td>Nozveziou Breiz</td>\n",
       "      <td>189</td>\n",
       "      <td>1903</td>\n",
       "      <td>67</td>\n",
       "      <td>Charles Guennou</td>\n",
       "      <td>1851</td>\n",
       "      <td>1915</td>\n",
       "      <td>auteur</td>\n",
       "      <td>Poésie</td>\n",
       "      <td>...</td>\n",
       "      <td>NaN</td>\n",
       "      <td>NaN</td>\n",
       "      <td>NaN</td>\n",
       "      <td>NaN</td>\n",
       "      <td>NaN</td>\n",
       "      <td>NaN</td>\n",
       "      <td>NaN</td>\n",
       "      <td>NaN</td>\n",
       "      <td>NaN</td>\n",
       "      <td>left_only</td>\n",
       "    </tr>\n",
       "  </tbody>\n",
       "</table>\n",
       "<p>2 rows × 25 columns</p>\n",
       "</div>"
      ],
      "text/plain": [
       "     id_x                   titre  id_ed  annee_publication id_personne  \\\n",
       "170   202  Gwin person Koataskorn    188               1904          67   \n",
       "171   203         Nozveziou Breiz    189               1903          67   \n",
       "\n",
       "         nom_usuel_x annee_naissance_x annee_deces   fonctions  \\\n",
       "170  Charles Guennou              1851        1915  traducteur   \n",
       "171  Charles Guennou              1851        1915      auteur   \n",
       "\n",
       "                 types  ... nom_etat_civil  prenom_etat_civil  \\\n",
       "170  Recueil de poèmes  ...            NaN                NaN   \n",
       "171             Poésie  ...            NaN                NaN   \n",
       "\n",
       "    particule_noblesse sexe  jour_naissance mois_naissance wikidata idref  \\\n",
       "170                NaN  NaN             NaN            NaN      NaN   NaN   \n",
       "171                NaN  NaN             NaN            NaN      NaN   NaN   \n",
       "\n",
       "    lustre     _merge  \n",
       "170    NaN  left_only  \n",
       "171    NaN  left_only  \n",
       "\n",
       "[2 rows x 25 columns]"
      ]
     },
     "execution_count": 75,
     "metadata": {},
     "output_type": "execute_result"
    }
   ],
   "source": [
    "### Fusionner les tables éditions et personnes retenues dans l'article\n",
    "publications_merged = publications[publications['fonctions'].str.contains(\"auteur|traducteur\")].merge(personnes_article, left_on = 'id_personne', right_on ='id', how='left', indicator=True)\n",
    "pm = publications_merged\n",
    "print('Effectif des publications retenues : ', len(pm), '\\n')\n",
    "pm[170:172]"
   ]
  },
  {
   "cell_type": "code",
   "execution_count": 63,
   "id": "nervous-uganda",
   "metadata": {},
   "outputs": [
    {
     "data": {
      "text/plain": [
       "Index(['id_x', 'titre', 'id_ed', 'annee_publication', 'id_personne',\n",
       "       'nom_usuel_x', 'annee_naissance_x', 'annee_deces', 'fonctions', 'types',\n",
       "       'langues', 'id_y', 'nom_usuel_y', 'type_art', 'annee_naissance_y',\n",
       "       'nom_etat_civil', 'prenom_etat_civil', 'particule_noblesse', 'sexe',\n",
       "       'jour_naissance', 'mois_naissance', 'wikidata', 'idref', 'lustre',\n",
       "       '_merge'],\n",
       "      dtype='object')"
      ]
     },
     "execution_count": 63,
     "metadata": {},
     "output_type": "execute_result"
    }
   ],
   "source": [
    "pm.columns"
   ]
  },
  {
   "cell_type": "code",
   "execution_count": 54,
   "id": "limiting-sheet",
   "metadata": {
    "tags": []
   },
   "outputs": [
    {
     "data": {
      "text/plain": [
       "_merge\n",
       "left_only     2167\n",
       "right_only       0\n",
       "both           524\n",
       "dtype: int64"
      ]
     },
     "execution_count": 54,
     "metadata": {},
     "output_type": "execute_result"
    }
   ],
   "source": [
    "### Toutes les publications et celles des auteurs retenus pour l'article\n",
    "pm.groupby('_merge').size()"
   ]
  },
  {
   "cell_type": "markdown",
   "id": "operating-round",
   "metadata": {},
   "source": [
    "## Distribution des publications dans le temps"
   ]
  },
  {
   "cell_type": "code",
   "execution_count": 98,
   "id": "tired-chart",
   "metadata": {},
   "outputs": [
    {
     "data": {
      "text/plain": [
       "(1851, 2017)"
      ]
     },
     "execution_count": 98,
     "metadata": {},
     "output_type": "execute_result"
    }
   ],
   "source": [
    "min(pm['annee_publication']), max(pm['annee_publication'])"
   ]
  },
  {
   "cell_type": "code",
   "execution_count": 100,
   "id": "sharp-crown",
   "metadata": {},
   "outputs": [
    {
     "data": {
      "text/plain": [
       "([1851, 1856, 1861, 1866, 1871], [1996, 2001, 2006, 2011, 2016])"
      ]
     },
     "execution_count": 100,
     "metadata": {},
     "output_type": "execute_result"
    }
   ],
   "source": [
    "lustres = [x for x in range(1851,2017, 5)]\n",
    "lustres[:5],lustres[-5:]"
   ]
  },
  {
   "cell_type": "code",
   "execution_count": 101,
   "id": "liberal-labor",
   "metadata": {},
   "outputs": [
    {
     "data": {
      "text/html": [
       "<div>\n",
       "<style scoped>\n",
       "    .dataframe tbody tr th:only-of-type {\n",
       "        vertical-align: middle;\n",
       "    }\n",
       "\n",
       "    .dataframe tbody tr th {\n",
       "        vertical-align: top;\n",
       "    }\n",
       "\n",
       "    .dataframe thead th {\n",
       "        text-align: right;\n",
       "    }\n",
       "</style>\n",
       "<table border=\"1\" class=\"dataframe\">\n",
       "  <thead>\n",
       "    <tr style=\"text-align: right;\">\n",
       "      <th></th>\n",
       "      <th>id_x</th>\n",
       "      <th>titre</th>\n",
       "      <th>id_ed</th>\n",
       "      <th>annee_publication</th>\n",
       "      <th>id_personne</th>\n",
       "      <th>nom_usuel_x</th>\n",
       "      <th>annee_naissance_x</th>\n",
       "      <th>annee_deces</th>\n",
       "      <th>fonctions</th>\n",
       "      <th>types</th>\n",
       "      <th>...</th>\n",
       "      <th>nom_etat_civil</th>\n",
       "      <th>prenom_etat_civil</th>\n",
       "      <th>particule_noblesse</th>\n",
       "      <th>sexe</th>\n",
       "      <th>jour_naissance</th>\n",
       "      <th>mois_naissance</th>\n",
       "      <th>wikidata</th>\n",
       "      <th>idref</th>\n",
       "      <th>lustre</th>\n",
       "      <th>_merge</th>\n",
       "    </tr>\n",
       "  </thead>\n",
       "  <tbody>\n",
       "    <tr>\n",
       "      <th>0</th>\n",
       "      <td>1</td>\n",
       "      <td>Em Breiz-Izel</td>\n",
       "      <td>1</td>\n",
       "      <td>1885</td>\n",
       "      <td>23</td>\n",
       "      <td>Jean Cadiou</td>\n",
       "      <td>1834</td>\n",
       "      <td></td>\n",
       "      <td>auteur</td>\n",
       "      <td></td>\n",
       "      <td>...</td>\n",
       "      <td>NaN</td>\n",
       "      <td>NaN</td>\n",
       "      <td>NaN</td>\n",
       "      <td>NaN</td>\n",
       "      <td>NaN</td>\n",
       "      <td>NaN</td>\n",
       "      <td>NaN</td>\n",
       "      <td>NaN</td>\n",
       "      <td>1881-1886</td>\n",
       "      <td>left_only</td>\n",
       "    </tr>\n",
       "    <tr>\n",
       "      <th>1</th>\n",
       "      <td>2</td>\n",
       "      <td>En Est-La Moisson</td>\n",
       "      <td>2</td>\n",
       "      <td>1897</td>\n",
       "      <td>22</td>\n",
       "      <td>Jean-Mathurin Cadic</td>\n",
       "      <td>1843</td>\n",
       "      <td>1917</td>\n",
       "      <td>auteur,auteur</td>\n",
       "      <td>Poésie,Poésie</td>\n",
       "      <td>...</td>\n",
       "      <td>NaN</td>\n",
       "      <td>NaN</td>\n",
       "      <td>NaN</td>\n",
       "      <td>NaN</td>\n",
       "      <td>NaN</td>\n",
       "      <td>NaN</td>\n",
       "      <td>NaN</td>\n",
       "      <td>NaN</td>\n",
       "      <td>1896-1901</td>\n",
       "      <td>left_only</td>\n",
       "    </tr>\n",
       "  </tbody>\n",
       "</table>\n",
       "<p>2 rows × 25 columns</p>\n",
       "</div>"
      ],
      "text/plain": [
       "   id_x              titre  id_ed  annee_publication id_personne  \\\n",
       "0     1      Em Breiz-Izel      1               1885          23   \n",
       "1     2  En Est-La Moisson      2               1897          22   \n",
       "\n",
       "           nom_usuel_x annee_naissance_x annee_deces      fonctions  \\\n",
       "0          Jean Cadiou              1834                     auteur   \n",
       "1  Jean-Mathurin Cadic              1843        1917  auteur,auteur   \n",
       "\n",
       "           types  ... nom_etat_civil  prenom_etat_civil particule_noblesse  \\\n",
       "0                 ...            NaN                NaN                NaN   \n",
       "1  Poésie,Poésie  ...            NaN                NaN                NaN   \n",
       "\n",
       "  sexe  jour_naissance mois_naissance wikidata idref     lustre     _merge  \n",
       "0  NaN             NaN            NaN      NaN   NaN  1881-1886  left_only  \n",
       "1  NaN             NaN            NaN      NaN   NaN  1896-1901  left_only  \n",
       "\n",
       "[2 rows x 25 columns]"
      ]
     },
     "execution_count": 101,
     "metadata": {},
     "output_type": "execute_result"
    }
   ],
   "source": [
    "### Créer une copie indépendante du DataFrame (attention aux copies de variables qui sont seulement des alias) \n",
    "# et coder les années de publication en relation avec les lustres\n",
    "\n",
    "pm['lustre'] = pd.cut(pm['annee_publication'], lustres, right=False)\n",
    "### Transformer le code ajouté pour qu'il soit plus lisible\n",
    "pm['lustre'] = pm['lustre'].apply(lambda row : str(int(row.left))+'-'+str(int(row.right)))\n",
    "\n",
    "## Inspection\n",
    "pm[:2]"
   ]
  },
  {
   "cell_type": "code",
   "execution_count": 102,
   "id": "israeli-african",
   "metadata": {},
   "outputs": [
    {
     "data": {
      "text/plain": [
       "Index(['id_x', 'titre', 'id_ed', 'annee_publication', 'id_personne',\n",
       "       'nom_usuel_x', 'annee_naissance_x', 'annee_deces', 'fonctions', 'types',\n",
       "       'langues', 'id_y', 'nom_usuel_y', 'type_art', 'annee_naissance_y',\n",
       "       'nom_etat_civil', 'prenom_etat_civil', 'particule_noblesse', 'sexe',\n",
       "       'jour_naissance', 'mois_naissance', 'wikidata', 'idref', 'lustre',\n",
       "       '_merge'],\n",
       "      dtype='object')"
      ]
     },
     "execution_count": 102,
     "metadata": {},
     "output_type": "execute_result"
    }
   ],
   "source": [
    "pm.columns"
   ]
  },
  {
   "cell_type": "code",
   "execution_count": 154,
   "id": "atmospheric-michael",
   "metadata": {},
   "outputs": [
    {
     "data": {
      "image/png": "[encoded data removed]",
      "text/plain": [
       "<Figure size 1440x360 with 1 Axes>"
      ]
     },
     "metadata": {
      "needs_background": "light"
     },
     "output_type": "display_data"
    }
   ],
   "source": [
    "### Publications des auteurs mentionnées dans l'article ('both') et tous les autres\n",
    "\n",
    "\n",
    "X = 'lustre'\n",
    "Y = '_merge'\n",
    "    \n",
    "g = pm[[X,Y]].pivot_table(index=X,columns=Y,aggfunc=len) \\\n",
    "        .fillna(0).astype(int).sort_values(by=X, ascending=True) \\\n",
    "        .plot( kind='bar', stacked=True,  width=0.2,  figsize=(20,5),  title = \"Publications par lustre et par type d'auteur (mentionné par l'article ou non)\")\n",
    "plt.xticks(rotation=45)\n",
    "plt.show()"
   ]
  },
  {
   "cell_type": "code",
   "execution_count": 119,
   "id": "integrated-cambodia",
   "metadata": {},
   "outputs": [
    {
     "data": {
      "text/plain": [
       "type_art\n",
       "non_traites      1827\n",
       "régio             242\n",
       "gwalarn           148\n",
       "édif               79\n",
       "régio_gwalarn      19\n",
       "dtype: int64"
      ]
     },
     "execution_count": 119,
     "metadata": {},
     "output_type": "execute_result"
    }
   ],
   "source": [
    "pm['type_art'] = pm['type_art'].fillna('non_traites')\n",
    "pm.groupby('type_art').size().sort_values(ascending=False)"
   ]
  },
  {
   "cell_type": "code",
   "execution_count": 120,
   "id": "green-avenue",
   "metadata": {},
   "outputs": [
    {
     "data": {
      "image/png": "[encoded data removed]",
      "text/plain": [
       "<Figure size 1440x360 with 1 Axes>"
      ]
     },
     "metadata": {
      "needs_background": "light"
     },
     "output_type": "display_data"
    }
   ],
   "source": [
    "### Publications des auteurs mentionnées dans l'article ('both') et tous les autres\n",
    "\n",
    "\n",
    "\n",
    "X = 'lustre'\n",
    "Y = 'type_art'\n",
    "    \n",
    "g = pm[[X,Y]].pivot_table(index=X,columns=Y,aggfunc=len) \\\n",
    "        .fillna(0).astype(int).sort_values(by=X, ascending=True) \\\n",
    "        .plot( kind='bar', stacked=True,  width=0.2,  figsize=(20,5),  title = \"Publications par lustre et par type d'auteur\"\\\n",
    "             , color={'gwalarn':'red', 'régio':'blue', 'édif':'#17A589', 'régio_gwalarn':'#9C640C', 'non_traites':'#ECF0F1'})\n",
    "plt.xticks(rotation=45)\n",
    "plt.show()"
   ]
  },
  {
   "cell_type": "code",
   "execution_count": 121,
   "id": "cloudy-spectrum",
   "metadata": {
    "tags": []
   },
   "outputs": [
    {
     "data": {
      "text/plain": [
       "_merge\n",
       "left_only     1573\n",
       "right_only       0\n",
       "both           488\n",
       "dtype: int64"
      ]
     },
     "execution_count": 121,
     "metadata": {},
     "output_type": "execute_result"
    }
   ],
   "source": [
    "### Toutes les publications et celles des auteurs retenus pour l'article\n",
    "g_pm = pm[pm['annee_publication'].between(1880, 2020, inclusive=False)].groupby('_merge').size()\n",
    "g_pm"
   ]
  },
  {
   "cell_type": "code",
   "execution_count": 122,
   "id": "individual-perfume",
   "metadata": {
    "tags": []
   },
   "outputs": [
    {
     "data": {
      "text/plain": [
       "_merge\n",
       "left_only     143\n",
       "right_only      0\n",
       "both          165\n",
       "dtype: int64"
      ]
     },
     "execution_count": 122,
     "metadata": {},
     "output_type": "execute_result"
    }
   ],
   "source": [
    "### Toutes les publications et celles des auteurs retenus pour l'article\n",
    "g_pm = pm[pm['annee_publication'].between(1918, 1940, inclusive=False)].groupby('_merge').size()\n",
    "g_pm"
   ]
  },
  {
   "cell_type": "markdown",
   "id": "generic-leonard",
   "metadata": {},
   "source": [
    "## Publications des personnes contemporaines de celles retenues dans l'article"
   ]
  },
  {
   "cell_type": "code",
   "execution_count": 123,
   "id": "interstate-stuff",
   "metadata": {},
   "outputs": [
    {
     "data": {
      "text/plain": [
       "1514"
      ]
     },
     "execution_count": 123,
     "metadata": {},
     "output_type": "execute_result"
    }
   ],
   "source": [
    "pm_ne_apres_1850 = pm[pm['annee_naissance_x'].astype('string') > '1850'].sort_values(['annee_naissance_x','annee_publication'])\n",
    "len(pm_ne_apres_1850)"
   ]
  },
  {
   "cell_type": "code",
   "execution_count": 124,
   "id": "compound-demonstration",
   "metadata": {},
   "outputs": [
    {
     "data": {
      "text/plain": [
       "_merge\n",
       "left_only     1026\n",
       "right_only       0\n",
       "both           488\n",
       "dtype: int64"
      ]
     },
     "execution_count": 124,
     "metadata": {},
     "output_type": "execute_result"
    }
   ],
   "source": [
    "pm_ne_apres_1850.groupby('_merge').size()"
   ]
  },
  {
   "cell_type": "code",
   "execution_count": 156,
   "id": "rocky-anatomy",
   "metadata": {},
   "outputs": [
    {
     "data": {
      "image/png": "[encoded data removed]",
      "text/plain": [
       "<Figure size 1440x360 with 1 Axes>"
      ]
     },
     "metadata": {
      "needs_background": "light"
     },
     "output_type": "display_data"
    }
   ],
   "source": [
    "X = '_merge'\n",
    "Y = 'lustre'\n",
    "    \n",
    "g = pm_ne_apres_1850[[Y,X]].pivot_table(index=Y,columns=X,aggfunc=len) \\\n",
    "        .fillna(0).astype(int).sort_values(by=Y, ascending=True) \\\n",
    "        .plot( kind='bar', stacked=True,  width=0.4,  figsize=(20,5),  title = 'Publications par lustre')\n",
    "plt.xticks(rotation=45)\n",
    "plt.show()"
   ]
  },
  {
   "cell_type": "code",
   "execution_count": 148,
   "id": "british-reaction",
   "metadata": {},
   "outputs": [
    {
     "data": {
      "text/plain": [
       "nom_usuel_x\n",
       "Roparz Hemon            97\n",
       "Adrien de Carné         38\n",
       "Sylvestre Sévéno        38\n",
       "Pierre-Jakez Hélias     38\n",
       "François Jaffrennou     33\n",
       "Loeiz Herrieu           31\n",
       "Per Denez               30\n",
       "Youenn Drezen           25\n",
       "Yves Ollivier           25\n",
       "Yves Berthou            23\n",
       "Charles Le Goffic       23\n",
       "Yves Le Moal            23\n",
       "Fañch Eliès Abeozen     22\n",
       "Auguste Dupouy          20\n",
       "Joseph Le Bayon         20\n",
       "Jean-Marie Perrot       19\n",
       "François Vallée         19\n",
       "Maodez Glanndour        18\n",
       "Mikael Madeg            18\n",
       "Goulc'han Kervella      17\n",
       "Claude-Marie Le Prat    17\n",
       "Jean-Marie Uguen        16\n",
       "Toussaint Le Garrec     15\n",
       "Emile Ernault           15\n",
       "Frañsez Kervella        14\n",
       "Yves-Marie Madec        13\n",
       "Jakez Riou              13\n",
       "Meven Mordiern          13\n",
       "Pierre Le Goff          13\n",
       "Anatole Le Braz         12\n",
       "dtype: int64"
      ]
     },
     "execution_count": 148,
     "metadata": {},
     "output_type": "execute_result"
    }
   ],
   "source": [
    "eff_publications_par_personne = pm_ne_apres_1850.groupby('nom_usuel_x').size().sort_values(ascending=False)\n",
    "eff_publications_par_personne[:30]"
   ]
  },
  {
   "cell_type": "code",
   "execution_count": 149,
   "id": "sunset-period",
   "metadata": {},
   "outputs": [
    {
     "data": {
      "image/png": "[encoded data removed]",
      "text/plain": [
       "<Figure size 1440x360 with 1 Axes>"
      ]
     },
     "metadata": {
      "needs_background": "light"
     },
     "output_type": "display_data"
    }
   ],
   "source": [
    "eff_publications_par_personne[eff_publications_par_personne > 9].plot( kind='bar', stacked=True,  width=0.2,  figsize=(20,5),  title = 'Effectifs de publications par personne')\n",
    "plt.xticks(rotation=75)\n",
    "plt.show()"
   ]
  },
  {
   "cell_type": "code",
   "execution_count": 164,
   "id": "latter-psychology",
   "metadata": {},
   "outputs": [
    {
     "data": {
      "text/plain": [
       "<AxesSubplot:>"
      ]
     },
     "execution_count": 164,
     "metadata": {},
     "output_type": "execute_result"
    },
    {
     "data": {
      "image/png": "[encoded data removed]",
      "text/plain": [
       "<Figure size 1440x360 with 1 Axes>"
      ]
     },
     "metadata": {
      "needs_background": "light"
     },
     "output_type": "display_data"
    }
   ],
   "source": [
    "### https://pandas.pydata.org/pandas-docs/stable/reference/api/pandas.Series.hist.html#pandas.Series.hist\n",
    "eff_publications_par_personne[eff_publications_par_personne < 50].hist(figsize=(20,5), grid=False)"
   ]
  },
  {
   "cell_type": "code",
   "execution_count": 169,
   "id": "invisible-subscription",
   "metadata": {},
   "outputs": [
    {
     "data": {
      "text/plain": [
       "('Effectif : 77',\n",
       " nom_usuel_x\n",
       " Adrien de Carné         24\n",
       " Roparz Hemon            21\n",
       " Jean-Marie Perrot       11\n",
       " Jean-Marie-Yves Héno     9\n",
       " Loeiz Herrieu            9\n",
       " Jean-Marie Uguen         9\n",
       " Christophe Jézégou       8\n",
       " Charles Le Goffic        8\n",
       " Emile Ernault            7\n",
       " Yves Le Moal             7\n",
       " Auguste Dupouy           7\n",
       " François Vallée          6\n",
       " Youenn Drezen            6\n",
       " Sylvestre Sévéno         6\n",
       " Meven Mordiern           6\n",
       " Pierre Le Goff           5\n",
       " Yves-Marie Madec         5\n",
       " Joseph Le Bayon          5\n",
       " François Ménez           5\n",
       " Yves Picart              5\n",
       " Yves Le Bec              5\n",
       " Yves Berthou             5\n",
       " Jakez Riou               4\n",
       " Toussaint Le Garrec      4\n",
       " Octave-Louis Aubert      3\n",
       " François Jaffrennou      3\n",
       " Jean-Louis Rozec         3\n",
       " Julien Clisson           3\n",
       " Augustin Guillevic       3\n",
       " Pierre Martin            2\n",
       " dtype: int64)"
      ]
     },
     "execution_count": 169,
     "metadata": {},
     "output_type": "execute_result"
    }
   ],
   "source": [
    "###  Attention : mettre ou enlever auteur – traducteur\n",
    "eff_publications_limite = pm_ne_apres_1850[(pm_ne_apres_1850['annee_publication'].between(1918,1940,inclusive=False)) \\\n",
    "                                           ### auteur|traducteur\n",
    "                                           & (pm_ne_apres_1850['fonctions'].str.contains(\"auteur|traducteur\"))]\\\n",
    "                .groupby('nom_usuel_x').size().sort_values(ascending=False)\n",
    "'Effectif : ' + str(len(eff_publications_limite)), eff_publications_limite[:30]\n"
   ]
  },
  {
   "cell_type": "code",
   "execution_count": 152,
   "id": "chemical-royalty",
   "metadata": {},
   "outputs": [
    {
     "data": {
      "image/png": "[encoded data removed]",
      "text/plain": [
       "<Figure size 1440x360 with 1 Axes>"
      ]
     },
     "metadata": {
      "needs_background": "light"
     },
     "output_type": "display_data"
    }
   ],
   "source": [
    "eff_publications_limite[eff_publications_limite > 1].plot( kind='bar', stacked=True,  width=0.2,  figsize=(20,5),  title = 'Effectifs de publications par personne')\n",
    "plt.xticks(rotation=75)\n",
    "plt.show()"
   ]
  },
  {
   "cell_type": "code",
   "execution_count": null,
   "id": "diverse-plenty",
   "metadata": {},
   "outputs": [],
   "source": []
  },
  {
   "cell_type": "markdown",
   "id": "blind-decision",
   "metadata": {},
   "source": [
    "## Types de publications\n",
    "\n",
    "Regroupement en trois catégories : edification, erudition, litterature"
   ]
  },
  {
   "cell_type": "code",
   "execution_count": 171,
   "id": "czech-digest",
   "metadata": {
    "scrolled": true,
    "tags": []
   },
   "outputs": [
    {
     "data": {
      "text/plain": [
       "types\n",
       "                                                                               889\n",
       "Littérature religieuse                                                         279\n",
       "Chant (chanson, gwerz, cantate...)                                             215\n",
       "Essai (étude, article, thèse...)                                               185\n",
       "Théâtre                                                                        175\n",
       "Poésie                                                                         107\n",
       "Outil linguistique,Outil linguistique                                           74\n",
       "Recueil de poèmes                                                               61\n",
       "Cantique                                                                        55\n",
       "Roman                                                                           39\n",
       "Outil linguistique                                                              39\n",
       "Conte                                                                           38\n",
       "Autobiographie / Récit de vie                                                   26\n",
       "Nouvelle                                                                        23\n",
       "Recueil de contes                                                               19\n",
       "Recueil de cantiques                                                            18\n",
       "Littérature religieuse,Littérature religieuse                                    9\n",
       "Recueil de poèmes,Recueil de poèmes                                              8\n",
       "Littérature jeunesse                                                             6\n",
       "Chant (chanson, gwerz, cantate...),Chant (chanson, gwerz, cantate...)            5\n",
       "Théâtre,Théâtre                                                                  5\n",
       "Essai (étude, article, thèse...) ,Essai (étude, article, thèse...)               5\n",
       "Correspondance                                                                   4\n",
       "Poésie,Poésie                                                                    4\n",
       "Conte,Littérature jeunesse                                                       3\n",
       "Théâtre,Théâtre,Théâtre                                                          3\n",
       "Recueil de nouvelles                                                             3\n",
       "Recueil de pièces de théâtre                                                     3\n",
       "Outil linguistique,Outil linguistique,Outil linguistique,Outil linguistique      2\n",
       "Essai (étude, article, thèse...) ,Outil linguistique                             1\n",
       "Littérature jeunesse,Littérature jeunesse                                        1\n",
       "Manuel scolaire                                                                  1\n",
       "Dictionnaire                                                                     1\n",
       "Outil linguistique,Outil linguistique,Outil linguistique                         1\n",
       "Recueil de cantiques,Recueil de cantiques                                        1\n",
       "Recueil de contes,Recueil de contes                                              1\n",
       "Cantique,Cantique                                                                1\n",
       "Bande dessinée,Bande dessinée                                                    1\n",
       "Autobiographie / Récit de vie,Autobiographie / Récit de vie                      1\n",
       "Roman,Roman,Roman                                                                1\n",
       "Appareil critique,Appareil critique                                              1\n",
       "Littérature religieuse,Littérature religieuse,Littérature religieuse             1\n",
       "dtype: int64"
      ]
     },
     "execution_count": 171,
     "metadata": {},
     "output_type": "execute_result"
    }
   ],
   "source": [
    "pm_types = pm.groupby('types').size()\n",
    "pm_types = pm_types.sort_values(ascending = False)\n",
    "pm_types"
   ]
  },
  {
   "cell_type": "markdown",
   "id": "dynamic-collector",
   "metadata": {},
   "source": [
    "### Coder les types de publications"
   ]
  },
  {
   "cell_type": "code",
   "execution_count": 184,
   "id": "micro-northern",
   "metadata": {},
   "outputs": [],
   "source": [
    "def parse_values(x):\n",
    "    if 'relig' in x or 'antiq' in x :\n",
    "       return 'edification'\n",
    "    elif 'Chant' in x or 'Théa' in x or 'Poés' in x \\\n",
    "    or 'Poés' in x or 'Roma' in x or 'onte' in x \\\n",
    "    or 'ouvel' in x or 'auto' in x :\n",
    "       return 'litterature'\n",
    "    elif 'Manuel' in x or 'Essai' in x or 'Corresp' in x or 'Outil' in x:\n",
    "       return 'erudition'\n",
    "    else:\n",
    "       return 'sans_type'\n"
   ]
  },
  {
   "cell_type": "code",
   "execution_count": 225,
   "id": "canadian-graham",
   "metadata": {},
   "outputs": [
    {
     "data": {
      "text/html": [
       "<div>\n",
       "<style scoped>\n",
       "    .dataframe tbody tr th:only-of-type {\n",
       "        vertical-align: middle;\n",
       "    }\n",
       "\n",
       "    .dataframe tbody tr th {\n",
       "        vertical-align: top;\n",
       "    }\n",
       "\n",
       "    .dataframe thead th {\n",
       "        text-align: right;\n",
       "    }\n",
       "</style>\n",
       "<table border=\"1\" class=\"dataframe\">\n",
       "  <thead>\n",
       "    <tr style=\"text-align: right;\">\n",
       "      <th></th>\n",
       "      <th>id_x</th>\n",
       "      <th>titre</th>\n",
       "      <th>id_ed</th>\n",
       "      <th>annee_publication</th>\n",
       "      <th>id_personne</th>\n",
       "      <th>nom_usuel_x</th>\n",
       "      <th>annee_naissance_x</th>\n",
       "      <th>annee_deces</th>\n",
       "      <th>fonctions</th>\n",
       "      <th>types</th>\n",
       "      <th>...</th>\n",
       "      <th>prenom_etat_civil</th>\n",
       "      <th>particule_noblesse</th>\n",
       "      <th>sexe</th>\n",
       "      <th>jour_naissance</th>\n",
       "      <th>mois_naissance</th>\n",
       "      <th>wikidata</th>\n",
       "      <th>idref</th>\n",
       "      <th>lustre</th>\n",
       "      <th>_merge</th>\n",
       "      <th>genre_code</th>\n",
       "    </tr>\n",
       "  </thead>\n",
       "  <tbody>\n",
       "    <tr>\n",
       "      <th>0</th>\n",
       "      <td>1</td>\n",
       "      <td>Em Breiz-Izel</td>\n",
       "      <td>1</td>\n",
       "      <td>1885</td>\n",
       "      <td>23</td>\n",
       "      <td>Jean Cadiou</td>\n",
       "      <td>1834</td>\n",
       "      <td></td>\n",
       "      <td>auteur</td>\n",
       "      <td></td>\n",
       "      <td>...</td>\n",
       "      <td>NaN</td>\n",
       "      <td>NaN</td>\n",
       "      <td>NaN</td>\n",
       "      <td>NaN</td>\n",
       "      <td>NaN</td>\n",
       "      <td>NaN</td>\n",
       "      <td>NaN</td>\n",
       "      <td>1881-1886</td>\n",
       "      <td>left_only</td>\n",
       "      <td>sans_type</td>\n",
       "    </tr>\n",
       "    <tr>\n",
       "      <th>1</th>\n",
       "      <td>2</td>\n",
       "      <td>En Est-La Moisson</td>\n",
       "      <td>2</td>\n",
       "      <td>1897</td>\n",
       "      <td>22</td>\n",
       "      <td>Jean-Mathurin Cadic</td>\n",
       "      <td>1843</td>\n",
       "      <td>1917</td>\n",
       "      <td>auteur,auteur</td>\n",
       "      <td>Poésie,Poésie</td>\n",
       "      <td>...</td>\n",
       "      <td>NaN</td>\n",
       "      <td>NaN</td>\n",
       "      <td>NaN</td>\n",
       "      <td>NaN</td>\n",
       "      <td>NaN</td>\n",
       "      <td>NaN</td>\n",
       "      <td>NaN</td>\n",
       "      <td>1896-1901</td>\n",
       "      <td>left_only</td>\n",
       "      <td>litterature</td>\n",
       "    </tr>\n",
       "  </tbody>\n",
       "</table>\n",
       "<p>2 rows × 26 columns</p>\n",
       "</div>"
      ],
      "text/plain": [
       "   id_x              titre  id_ed  annee_publication id_personne  \\\n",
       "0     1      Em Breiz-Izel      1               1885          23   \n",
       "1     2  En Est-La Moisson      2               1897          22   \n",
       "\n",
       "           nom_usuel_x annee_naissance_x annee_deces      fonctions  \\\n",
       "0          Jean Cadiou              1834                     auteur   \n",
       "1  Jean-Mathurin Cadic              1843        1917  auteur,auteur   \n",
       "\n",
       "           types  ... prenom_etat_civil  particule_noblesse sexe  \\\n",
       "0                 ...               NaN                 NaN  NaN   \n",
       "1  Poésie,Poésie  ...               NaN                 NaN  NaN   \n",
       "\n",
       "  jour_naissance  mois_naissance wikidata idref     lustre     _merge  \\\n",
       "0            NaN             NaN      NaN   NaN  1881-1886  left_only   \n",
       "1            NaN             NaN      NaN   NaN  1896-1901  left_only   \n",
       "\n",
       "    genre_code  \n",
       "0    sans_type  \n",
       "1  litterature  \n",
       "\n",
       "[2 rows x 26 columns]"
      ]
     },
     "execution_count": 225,
     "metadata": {},
     "output_type": "execute_result"
    }
   ],
   "source": [
    "pm['genre_code'] = pm['types'].apply(parse_values)\n",
    "pm[:2]"
   ]
  },
  {
   "cell_type": "code",
   "execution_count": 186,
   "id": "gentle-knowing",
   "metadata": {},
   "outputs": [
    {
     "data": {
      "text/plain": [
       "genre_code\n",
       "edification     364\n",
       "erudition       312\n",
       "litterature     458\n",
       "sans_type      1181\n",
       "dtype: int64"
      ]
     },
     "execution_count": 186,
     "metadata": {},
     "output_type": "execute_result"
    }
   ],
   "source": [
    "pm.groupby('genre_code').size()"
   ]
  },
  {
   "cell_type": "code",
   "execution_count": 203,
   "id": "prepared-behavior",
   "metadata": {},
   "outputs": [
    {
     "data": {
      "text/plain": [
       "genre_code\n",
       "edification     60\n",
       "erudition       44\n",
       "litterature     61\n",
       "sans_type      143\n",
       "dtype: int64"
      ]
     },
     "execution_count": 203,
     "metadata": {},
     "output_type": "execute_result"
    }
   ],
   "source": [
    "pm[pm['annee_publication'].between(1918,1940,inclusive=False)].groupby('genre_code').size()"
   ]
  },
  {
   "cell_type": "code",
   "execution_count": 187,
   "id": "facial-yesterday",
   "metadata": {},
   "outputs": [],
   "source": [
    "### Toute la période\n",
    "\n",
    "X = 'type_art'\n",
    "Y = 'genre_code'\n",
    "g_pm = pm[[Y,X]].pivot_table(index=X,columns=Y,aggfunc=len,margins=True,margins_name=\"Total\") \\\n",
    "        .fillna(0).astype(int)"
   ]
  },
  {
   "cell_type": "code",
   "execution_count": 200,
   "id": "robust-shower",
   "metadata": {},
   "outputs": [],
   "source": [
    "### Entre-deux-guerres\n",
    "\n",
    "X = 'type_art'\n",
    "Y = 'genre_code'\n",
    "g_pm = pm[pm['annee_publication'].between(1918,1940,inclusive=False)][[Y,X]].pivot_table(index=X,columns=Y,aggfunc=len,margins=True,margins_name=\"Total\") \\\n",
    "        .fillna(0).astype(int)"
   ]
  },
  {
   "cell_type": "code",
   "execution_count": 233,
   "id": "governmental-cycle",
   "metadata": {},
   "outputs": [],
   "source": [
    "### Entre-deux-guerres et codés\n",
    "\n",
    "X = 'type_art'\n",
    "Y = 'genre_code'\n",
    "g_pm = pm[(pm['annee_publication'].between(1915,1940,inclusive=False)) & (pm['type_art'].str.contains('non_t') == False)][[Y,X]].pivot_table(index=X,columns=Y,aggfunc=len,margins=True,margins_name=\"Total\") \\\n",
    "        .fillna(0).astype(int)"
   ]
  },
  {
   "cell_type": "code",
   "execution_count": 234,
   "id": "controversial-craft",
   "metadata": {},
   "outputs": [
    {
     "data": {
      "image/png": "[encoded data removed]",
      "text/plain": [
       "<Figure size 1152x360 with 1 Axes>"
      ]
     },
     "metadata": {
      "needs_background": "light"
     },
     "output_type": "display_data"
    }
   ],
   "source": [
    "g_pm.iloc[:-1,:-1].plot( kind='barh', stacked=True,  width=0.3,  figsize=(16,5),  title = 'Ouvrages par genre')\n",
    "plt.xticks(rotation=45)\n",
    "plt.show()"
   ]
  },
  {
   "cell_type": "markdown",
   "id": "cleared-education",
   "metadata": {},
   "source": [
    "### Analyse bivariée"
   ]
  },
  {
   "cell_type": "code",
   "execution_count": 235,
   "id": "dedicated-moral",
   "metadata": {},
   "outputs": [
    {
     "data": {
      "text/html": [
       "<div>\n",
       "<style scoped>\n",
       "    .dataframe tbody tr th:only-of-type {\n",
       "        vertical-align: middle;\n",
       "    }\n",
       "\n",
       "    .dataframe tbody tr th {\n",
       "        vertical-align: top;\n",
       "    }\n",
       "\n",
       "    .dataframe thead th {\n",
       "        text-align: right;\n",
       "    }\n",
       "</style>\n",
       "<table border=\"1\" class=\"dataframe\">\n",
       "  <thead>\n",
       "    <tr style=\"text-align: right;\">\n",
       "      <th>genre_code</th>\n",
       "      <th>edification</th>\n",
       "      <th>erudition</th>\n",
       "      <th>litterature</th>\n",
       "      <th>sans_type</th>\n",
       "      <th>Total</th>\n",
       "    </tr>\n",
       "    <tr>\n",
       "      <th>type_art</th>\n",
       "      <th></th>\n",
       "      <th></th>\n",
       "      <th></th>\n",
       "      <th></th>\n",
       "      <th></th>\n",
       "    </tr>\n",
       "  </thead>\n",
       "  <tbody>\n",
       "    <tr>\n",
       "      <th>gwalarn</th>\n",
       "      <td>3</td>\n",
       "      <td>14</td>\n",
       "      <td>4</td>\n",
       "      <td>16</td>\n",
       "      <td>37</td>\n",
       "    </tr>\n",
       "    <tr>\n",
       "      <th>régio</th>\n",
       "      <td>20</td>\n",
       "      <td>8</td>\n",
       "      <td>19</td>\n",
       "      <td>56</td>\n",
       "      <td>103</td>\n",
       "    </tr>\n",
       "    <tr>\n",
       "      <th>régio_gwalarn</th>\n",
       "      <td>6</td>\n",
       "      <td>0</td>\n",
       "      <td>1</td>\n",
       "      <td>1</td>\n",
       "      <td>8</td>\n",
       "    </tr>\n",
       "    <tr>\n",
       "      <th>édif</th>\n",
       "      <td>15</td>\n",
       "      <td>6</td>\n",
       "      <td>10</td>\n",
       "      <td>5</td>\n",
       "      <td>36</td>\n",
       "    </tr>\n",
       "    <tr>\n",
       "      <th>Total</th>\n",
       "      <td>44</td>\n",
       "      <td>28</td>\n",
       "      <td>34</td>\n",
       "      <td>78</td>\n",
       "      <td>184</td>\n",
       "    </tr>\n",
       "  </tbody>\n",
       "</table>\n",
       "</div>"
      ],
      "text/plain": [
       "genre_code     edification  erudition  litterature  sans_type  Total\n",
       "type_art                                                            \n",
       "gwalarn                  3         14            4         16     37\n",
       "régio                   20          8           19         56    103\n",
       "régio_gwalarn            6          0            1          1      8\n",
       "édif                    15          6           10          5     36\n",
       "Total                   44         28           34         78    184"
      ]
     },
     "execution_count": 235,
     "metadata": {},
     "output_type": "execute_result"
    }
   ],
   "source": [
    "g_pm"
   ]
  },
  {
   "cell_type": "code",
   "execution_count": 236,
   "id": "united-wrapping",
   "metadata": {},
   "outputs": [
    {
     "data": {
      "text/plain": [
       "184"
      ]
     },
     "execution_count": 236,
     "metadata": {},
     "output_type": "execute_result"
    }
   ],
   "source": [
    "### Total général, dernière cellule de la dernière ligne\n",
    "g_pm.iat[-1,-1]"
   ]
  },
  {
   "cell_type": "code",
   "execution_count": 237,
   "id": "becoming-vatican",
   "metadata": {},
   "outputs": [
    {
     "data": {
      "text/html": [
       "<div>\n",
       "<style scoped>\n",
       "    .dataframe tbody tr th:only-of-type {\n",
       "        vertical-align: middle;\n",
       "    }\n",
       "\n",
       "    .dataframe tbody tr th {\n",
       "        vertical-align: top;\n",
       "    }\n",
       "\n",
       "    .dataframe thead th {\n",
       "        text-align: right;\n",
       "    }\n",
       "</style>\n",
       "<table border=\"1\" class=\"dataframe\">\n",
       "  <thead>\n",
       "    <tr style=\"text-align: right;\">\n",
       "      <th>genre_code</th>\n",
       "      <th>edification</th>\n",
       "      <th>erudition</th>\n",
       "      <th>litterature</th>\n",
       "      <th>sans_type</th>\n",
       "    </tr>\n",
       "    <tr>\n",
       "      <th>type_art</th>\n",
       "      <th></th>\n",
       "      <th></th>\n",
       "      <th></th>\n",
       "      <th></th>\n",
       "    </tr>\n",
       "  </thead>\n",
       "  <tbody>\n",
       "    <tr>\n",
       "      <th>gwalarn</th>\n",
       "      <td>3</td>\n",
       "      <td>14</td>\n",
       "      <td>4</td>\n",
       "      <td>16</td>\n",
       "    </tr>\n",
       "    <tr>\n",
       "      <th>régio</th>\n",
       "      <td>20</td>\n",
       "      <td>8</td>\n",
       "      <td>19</td>\n",
       "      <td>56</td>\n",
       "    </tr>\n",
       "    <tr>\n",
       "      <th>régio_gwalarn</th>\n",
       "      <td>6</td>\n",
       "      <td>0</td>\n",
       "      <td>1</td>\n",
       "      <td>1</td>\n",
       "    </tr>\n",
       "    <tr>\n",
       "      <th>édif</th>\n",
       "      <td>15</td>\n",
       "      <td>6</td>\n",
       "      <td>10</td>\n",
       "      <td>5</td>\n",
       "    </tr>\n",
       "  </tbody>\n",
       "</table>\n",
       "</div>"
      ],
      "text/plain": [
       "genre_code     edification  erudition  litterature  sans_type\n",
       "type_art                                                     \n",
       "gwalarn                  3         14            4         16\n",
       "régio                   20          8           19         56\n",
       "régio_gwalarn            6          0            1          1\n",
       "édif                    15          6           10          5"
      ]
     },
     "execution_count": 237,
     "metadata": {},
     "output_type": "execute_result"
    }
   ],
   "source": [
    "g_pm.iloc[:-1,:-1]"
   ]
  },
  {
   "cell_type": "code",
   "execution_count": 238,
   "id": "decreased-probe",
   "metadata": {},
   "outputs": [
    {
     "name": "stdout",
     "output_type": "stream",
     "text": [
      "genre_code     edification  erudition  litterature  sans_type  Total\n",
      "type_art                                                            \n",
      "gwalarn                  8          5            6         15     37\n",
      "régio                   24         15           19         43    103\n",
      "régio_gwalarn            1          1            1          3      8\n",
      "édif                     8          5            6         15     36\n",
      "Total                   44         28           34         78    184\n"
     ]
    }
   ],
   "source": [
    "tx = g_pm.loc[:,[\"Total\"]]\n",
    "ty = g_pm.loc[[\"Total\"],:]\n",
    "n = g_pm.iat[-1,-1]   # .iloc[:-1,:-1] \n",
    "\n",
    "### Compute the matrix multiplication between the columns.\n",
    "# https://pandas.pydata.org/pandas-docs/stable/reference/api/pandas.DataFrame.dot.html\n",
    "indep = tx.dot(ty) / n\n",
    "#pd.options.display.float_format = '{0:3.5}'.format\n",
    "\n",
    "# Arrondi\n",
    "print(indep.astype(int))\n"
   ]
  },
  {
   "cell_type": "code",
   "execution_count": 239,
   "id": "level-eugene",
   "metadata": {},
   "outputs": [
    {
     "name": "stdout",
     "output_type": "stream",
     "text": [
      "genre_code     edification  erudition  litterature  sans_type\n",
      "type_art                                                     \n",
      "gwalarn                 -5          8           -2          0\n",
      "régio                   -4         -7            0         12\n",
      "régio_gwalarn            4         -1            0         -2\n",
      "édif                     6          0            3        -10\n"
     ]
    }
   ],
   "source": [
    "### Différence en effectifs entre le théorique et l'observé\n",
    "### Doc. :\n",
    "#  https://openclassrooms.com/fr/courses/4525266-decrivez-et-nettoyez-votre-jeu-de-donnees/4775616-analysez-deux-variables-qualitatives-avec-le-chi-2\n",
    "ecarts = (g_pm-indep)\n",
    "## Attention : arrondi aux entiers dans l'affichage\n",
    "print(ecarts.iloc[:-1,:-1].astype(int))\n"
   ]
  },
  {
   "cell_type": "code",
   "execution_count": 240,
   "id": "exclusive-wonder",
   "metadata": {},
   "outputs": [
    {
     "data": {
      "text/html": [
       "<div>\n",
       "<style scoped>\n",
       "    .dataframe tbody tr th:only-of-type {\n",
       "        vertical-align: middle;\n",
       "    }\n",
       "\n",
       "    .dataframe tbody tr th {\n",
       "        vertical-align: top;\n",
       "    }\n",
       "\n",
       "    .dataframe thead th {\n",
       "        text-align: right;\n",
       "    }\n",
       "</style>\n",
       "<table border=\"1\" class=\"dataframe\">\n",
       "  <thead>\n",
       "    <tr style=\"text-align: right;\">\n",
       "      <th>genre_code</th>\n",
       "      <th>edification</th>\n",
       "      <th>erudition</th>\n",
       "      <th>litterature</th>\n",
       "      <th>sans_type</th>\n",
       "    </tr>\n",
       "    <tr>\n",
       "      <th>type_art</th>\n",
       "      <th></th>\n",
       "      <th></th>\n",
       "      <th></th>\n",
       "      <th></th>\n",
       "    </tr>\n",
       "  </thead>\n",
       "  <tbody>\n",
       "    <tr>\n",
       "      <th>gwalarn</th>\n",
       "      <td>3.865025</td>\n",
       "      <td>12.441246</td>\n",
       "      <td>1.177179</td>\n",
       "      <td>0.006335</td>\n",
       "    </tr>\n",
       "    <tr>\n",
       "      <th>régio</th>\n",
       "      <td>0.870505</td>\n",
       "      <td>3.757131</td>\n",
       "      <td>0.000056</td>\n",
       "      <td>3.485797</td>\n",
       "    </tr>\n",
       "    <tr>\n",
       "      <th>régio_gwalarn</th>\n",
       "      <td>8.731225</td>\n",
       "      <td>1.217391</td>\n",
       "      <td>0.154731</td>\n",
       "      <td>1.686176</td>\n",
       "    </tr>\n",
       "    <tr>\n",
       "      <th>édif</th>\n",
       "      <td>4.745059</td>\n",
       "      <td>0.049689</td>\n",
       "      <td>1.684854</td>\n",
       "      <td>6.899046</td>\n",
       "    </tr>\n",
       "  </tbody>\n",
       "</table>\n",
       "</div>"
      ],
      "text/plain": [
       "genre_code     edification  erudition  litterature  sans_type\n",
       "type_art                                                     \n",
       "gwalarn           3.865025  12.441246     1.177179   0.006335\n",
       "régio             0.870505   3.757131     0.000056   3.485797\n",
       "régio_gwalarn     8.731225   1.217391     0.154731   1.686176\n",
       "édif              4.745059   0.049689     1.684854   6.899046"
      ]
     },
     "execution_count": 240,
     "metadata": {},
     "output_type": "execute_result"
    }
   ],
   "source": [
    "### Ecarts positifs et pondérés par les effectifs\n",
    "### Doc. :\n",
    "#  https://openclassrooms.com/fr/courses/4525266-decrivez-et-nettoyez-votre-jeu-de-donnees/4775616-analysez-deux-variables-qualitatives-avec-le-chi-2\n",
    "ecarts_ponderes = ((g_pm-indep)**2/indep).iloc[:-1,:-1]\n",
    "ecarts_ponderes"
   ]
  },
  {
   "cell_type": "code",
   "execution_count": 241,
   "id": "legitimate-fraud",
   "metadata": {},
   "outputs": [
    {
     "name": "stdout",
     "output_type": "stream",
     "text": [
      "50.77144634454744\n"
     ]
    },
    {
     "data": {
      "image/png": "[encoded data removed]",
      "text/plain": [
       "<Figure size 1152x576 with 2 Axes>"
      ]
     },
     "metadata": {
      "needs_background": "light"
     },
     "output_type": "display_data"
    }
   ],
   "source": [
    "## Chi2 :somme des écarts pondérés\n",
    "\n",
    "xi_n = ecarts_ponderes.sum().sum() \n",
    "print(xi_n)\n",
    "\n",
    "table = ecarts_ponderes/xi_n\n",
    "fig, ax = plt.subplots(figsize=(16,8))         \n",
    "# Sample figsize in inches\n",
    "g = sns.heatmap(ecarts_ponderes, annot=ecarts_ponderes, cmap=\"coolwarm\", linewidths=.5, ax=ax)\n",
    "labels = ecarts_ponderes.index\n",
    "p = g.set_yticklabels(labels, rotation=30)"
   ]
  },
  {
   "cell_type": "code",
   "execution_count": null,
   "id": "swedish-sacrifice",
   "metadata": {},
   "outputs": [],
   "source": []
  },
  {
   "cell_type": "code",
   "execution_count": null,
   "id": "intellectual-external",
   "metadata": {},
   "outputs": [],
   "source": []
  },
  {
   "cell_type": "code",
   "execution_count": 232,
   "id": "effective-contribution",
   "metadata": {},
   "outputs": [
    {
     "data": {
      "text/html": [
       "<div>\n",
       "<style scoped>\n",
       "    .dataframe tbody tr th:only-of-type {\n",
       "        vertical-align: middle;\n",
       "    }\n",
       "\n",
       "    .dataframe tbody tr th {\n",
       "        vertical-align: top;\n",
       "    }\n",
       "\n",
       "    .dataframe thead th {\n",
       "        text-align: right;\n",
       "    }\n",
       "</style>\n",
       "<table border=\"1\" class=\"dataframe\">\n",
       "  <thead>\n",
       "    <tr style=\"text-align: right;\">\n",
       "      <th>type_art</th>\n",
       "      <th>gwalarn</th>\n",
       "      <th>régio</th>\n",
       "      <th>régio_gwalarn</th>\n",
       "      <th>édif</th>\n",
       "    </tr>\n",
       "    <tr>\n",
       "      <th>lustre</th>\n",
       "      <th></th>\n",
       "      <th></th>\n",
       "      <th></th>\n",
       "      <th></th>\n",
       "    </tr>\n",
       "  </thead>\n",
       "  <tbody>\n",
       "    <tr>\n",
       "      <th>1916-1921</th>\n",
       "      <td>0</td>\n",
       "      <td>14</td>\n",
       "      <td>3</td>\n",
       "      <td>9</td>\n",
       "    </tr>\n",
       "    <tr>\n",
       "      <th>1921-1926</th>\n",
       "      <td>4</td>\n",
       "      <td>31</td>\n",
       "      <td>3</td>\n",
       "      <td>8</td>\n",
       "    </tr>\n",
       "    <tr>\n",
       "      <th>1926-1931</th>\n",
       "      <td>20</td>\n",
       "      <td>25</td>\n",
       "      <td>0</td>\n",
       "      <td>11</td>\n",
       "    </tr>\n",
       "    <tr>\n",
       "      <th>1931-1936</th>\n",
       "      <td>11</td>\n",
       "      <td>21</td>\n",
       "      <td>1</td>\n",
       "      <td>4</td>\n",
       "    </tr>\n",
       "    <tr>\n",
       "      <th>1936-1941</th>\n",
       "      <td>2</td>\n",
       "      <td>12</td>\n",
       "      <td>1</td>\n",
       "      <td>4</td>\n",
       "    </tr>\n",
       "  </tbody>\n",
       "</table>\n",
       "</div>"
      ],
      "text/plain": [
       "type_art   gwalarn  régio  régio_gwalarn  édif\n",
       "lustre                                        \n",
       "1916-1921        0     14              3     9\n",
       "1921-1926        4     31              3     8\n",
       "1926-1931       20     25              0    11\n",
       "1931-1936       11     21              1     4\n",
       "1936-1941        2     12              1     4"
      ]
     },
     "execution_count": 232,
     "metadata": {},
     "output_type": "execute_result"
    }
   ],
   "source": [
    "### Tableau de contingence décennies-nationalités : effectifs\n",
    "\n",
    "X = \"lustre\"  \n",
    "Y = \"type_art\"\n",
    "\n",
    "lustre_type_publi = pm[(pm['annee_publication'].between(1915,1940,inclusive=False)) & (pm['type_art'].str.contains('non_t') == False)][[X,Y]]\\\n",
    "                   .pivot_table(index=X,columns=Y,aggfunc=len).fillna(0).astype(int) \n",
    "lustre_type_publi"
   ]
  },
  {
   "cell_type": "code",
   "execution_count": 230,
   "id": "arctic-reproduction",
   "metadata": {},
   "outputs": [
    {
     "data": {
      "image/png": "[encoded data removed]",
      "text/plain": [
       "<Figure size 1152x576 with 1 Axes>"
      ]
     },
     "metadata": {
      "needs_background": "light"
     },
     "output_type": "display_data"
    }
   ],
   "source": [
    "g = lustre_type_publi.sort_index(ascending=False).plot( kind='barh', stacked=True,  width=0.3,  figsize=(16,8),  title = 'Effectif des publications par lustre')"
   ]
  },
  {
   "cell_type": "code",
   "execution_count": 231,
   "id": "frequent-soviet",
   "metadata": {},
   "outputs": [
    {
     "data": {
      "image/png": "[encoded data removed]",
      "text/plain": [
       "<Figure size 1152x720 with 1 Axes>"
      ]
     },
     "metadata": {
      "needs_background": "light"
     },
     "output_type": "display_data"
    }
   ],
   "source": [
    "### https://www.shanelynn.ie/bar-plots-in-python-using-pandas-dataframes/\n",
    "stacked_data = lustre_type_publi.sort_index(ascending=False).apply(lambda x: x*100/sum(x), axis=1)\n",
    "p = stacked_data.plot(kind=\"barh\", stacked=True, figsize=(16,10), title='Proportion des types de publications par lustre')"
   ]
  },
  {
   "cell_type": "code",
   "execution_count": null,
   "id": "saving-secret",
   "metadata": {},
   "outputs": [],
   "source": []
  },
  {
   "cell_type": "code",
   "execution_count": null,
   "id": "hidden-vancouver",
   "metadata": {},
   "outputs": [],
   "source": []
  }
 ],
 "metadata": {
  "kernelspec": {
   "display_name": "Py 3.7 HN sparql",
   "language": "python",
   "name": "py37_hn_sparql"
  },
  "language_info": {
   "codemirror_mode": {
    "name": "ipython",
    "version": 3
   },
   "file_extension": ".py",
   "mimetype": "text/x-python",
   "name": "python",
   "nbconvert_exporter": "python",
   "pygments_lexer": "ipython3",
   "version": "3.7.10"
  }
 },
 "nbformat": 4,
 "nbformat_minor": 5
}
